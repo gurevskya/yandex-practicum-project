{
 "cells": [
  {
   "cell_type": "markdown",
   "metadata": {},
   "source": [
    "<font size = 6> **Проект: Принятие решений в бизнесе**</font>"
   ]
  },
  {
   "cell_type": "markdown",
   "metadata": {},
   "source": [
    "<div style=\"border:solid black 1px; padding: 20px\">\n",
    "   <font size = 4> Описание проекта: </font> отдел маркетинга подготовил список гипотез для увеличения выручки, которые необходимо проверить в данной работе. Для этого были поставлены следующие:\n",
    "<p>1) приоритезировать гипотезы;\n",
    "<p>2) провести анализ A/B-теста;\n",
    "<p>3) сделать выводы на основании полученных результатов.\n",
    "<p> В проекте будут исследованы 3 датасета, структура которых представлена ниже. Концептуально проект разделен на 2 части.\n",
    "</div>"
   ]
  },
  {
   "cell_type": "markdown",
   "metadata": {},
   "source": [
    "<font size = 4> Структура /datasets/hypothesis.csv</font>\n",
    "* **Hypothesis** — краткое описание гипотезы;\n",
    "* **Reach** — охват пользователей по 10-балльной шкале;\n",
    "* **Impact** — влияние на пользователей по 10-балльной шкале;\n",
    "* **Confidence** — уверенность в гипотезе по 10-балльной шкале;\n",
    "* **Efforts** — затраты ресурсов на проверку гипотезы по 10-балльной шкале. Чем больше значение Efforts, тем дороже проверка гипотезы."
   ]
  },
  {
   "cell_type": "markdown",
   "metadata": {},
   "source": [
    "<font size = 4> Структура /datasets/orders.csv</font>\n",
    "* **transactionId** — идентификатор заказа;\n",
    "* **visitorId** — идентификатор пользователя, совершившего заказ;\n",
    "* **date** — дата, когда был совершён заказ;\n",
    "* **revenue** — выручка заказа;\n",
    "* **group** — группа A/B-теста, в которую попал заказ"
   ]
  },
  {
   "cell_type": "markdown",
   "metadata": {},
   "source": [
    "<font size = 4> Структура /datasets/visitors.csv</font>\n",
    "* **date** — дата;\n",
    "* **group** — группа A/B-теста;\n",
    "* **visitors** — количество пользователей в указанную дату в указанной группе A/B-теста"
   ]
  },
  {
   "cell_type": "code",
   "execution_count": 1,
   "metadata": {},
   "outputs": [],
   "source": [
    "# импортируем необходимые библиотеки\n",
    "import pandas as pd\n",
    "import numpy as np\n",
    "import matplotlib.pyplot as plt\n",
    "%matplotlib inline\n",
    "import seaborn as sns\n",
    "import datetime as dt\n",
    "from pandas.plotting import register_matplotlib_converters\n",
    "import scipy.stats as stats"
   ]
  },
  {
   "cell_type": "code",
   "execution_count": 2,
   "metadata": {},
   "outputs": [],
   "source": [
    "# напишем функцию для изучения датасета\n",
    "def desribe_dt(dt):\n",
    "    display(dt.head(5))\n",
    "    display(dt.tail(5))\n",
    "    display('Общая информация о датасете')\n",
    "    display(dt.info())\n",
    "    display('Количество пропусков в датасете')\n",
    "    display(dt.isna().sum())\n",
    "    display('Количество дубликатов в датасете')\n",
    "    display(dt.duplicated().sum())\n",
    "    display('Статистические показатели датасета')\n",
    "    display(dt.describe())"
   ]
  },
  {
   "cell_type": "markdown",
   "metadata": {},
   "source": [
    "## Часть 1: Приоритизация гипотез"
   ]
  },
  {
   "cell_type": "code",
   "execution_count": 3,
   "metadata": {},
   "outputs": [],
   "source": [
    "# выгрузим датасет, содержащий гипотезы\n",
    "hypothesis = pd.read_csv('C:/Users/gureyvskaya/Downloads/hypothesis.csv')"
   ]
  },
  {
   "cell_type": "code",
   "execution_count": 4,
   "metadata": {},
   "outputs": [
    {
     "data": {
      "text/html": [
       "<div>\n",
       "<style scoped>\n",
       "    .dataframe tbody tr th:only-of-type {\n",
       "        vertical-align: middle;\n",
       "    }\n",
       "\n",
       "    .dataframe tbody tr th {\n",
       "        vertical-align: top;\n",
       "    }\n",
       "\n",
       "    .dataframe thead th {\n",
       "        text-align: right;\n",
       "    }\n",
       "</style>\n",
       "<table border=\"1\" class=\"dataframe\">\n",
       "  <thead>\n",
       "    <tr style=\"text-align: right;\">\n",
       "      <th></th>\n",
       "      <th>Hypothesis</th>\n",
       "      <th>Reach</th>\n",
       "      <th>Impact</th>\n",
       "      <th>Confidence</th>\n",
       "      <th>Efforts</th>\n",
       "    </tr>\n",
       "  </thead>\n",
       "  <tbody>\n",
       "    <tr>\n",
       "      <th>0</th>\n",
       "      <td>Добавить два новых канала привлечения трафика,...</td>\n",
       "      <td>3</td>\n",
       "      <td>10</td>\n",
       "      <td>8</td>\n",
       "      <td>6</td>\n",
       "    </tr>\n",
       "    <tr>\n",
       "      <th>1</th>\n",
       "      <td>Запустить собственную службу доставки, что сок...</td>\n",
       "      <td>2</td>\n",
       "      <td>5</td>\n",
       "      <td>4</td>\n",
       "      <td>10</td>\n",
       "    </tr>\n",
       "    <tr>\n",
       "      <th>2</th>\n",
       "      <td>Добавить блоки рекомендаций товаров на сайт ин...</td>\n",
       "      <td>8</td>\n",
       "      <td>3</td>\n",
       "      <td>7</td>\n",
       "      <td>3</td>\n",
       "    </tr>\n",
       "    <tr>\n",
       "      <th>3</th>\n",
       "      <td>Изменить структура категорий, что увеличит кон...</td>\n",
       "      <td>8</td>\n",
       "      <td>3</td>\n",
       "      <td>3</td>\n",
       "      <td>8</td>\n",
       "    </tr>\n",
       "    <tr>\n",
       "      <th>4</th>\n",
       "      <td>Изменить цвет фона главной страницы, чтобы уве...</td>\n",
       "      <td>3</td>\n",
       "      <td>1</td>\n",
       "      <td>1</td>\n",
       "      <td>1</td>\n",
       "    </tr>\n",
       "  </tbody>\n",
       "</table>\n",
       "</div>"
      ],
      "text/plain": [
       "                                          Hypothesis  Reach  Impact  \\\n",
       "0  Добавить два новых канала привлечения трафика,...      3      10   \n",
       "1  Запустить собственную службу доставки, что сок...      2       5   \n",
       "2  Добавить блоки рекомендаций товаров на сайт ин...      8       3   \n",
       "3  Изменить структура категорий, что увеличит кон...      8       3   \n",
       "4  Изменить цвет фона главной страницы, чтобы уве...      3       1   \n",
       "\n",
       "   Confidence  Efforts  \n",
       "0           8        6  \n",
       "1           4       10  \n",
       "2           7        3  \n",
       "3           3        8  \n",
       "4           1        1  "
      ]
     },
     "metadata": {},
     "output_type": "display_data"
    },
    {
     "data": {
      "text/html": [
       "<div>\n",
       "<style scoped>\n",
       "    .dataframe tbody tr th:only-of-type {\n",
       "        vertical-align: middle;\n",
       "    }\n",
       "\n",
       "    .dataframe tbody tr th {\n",
       "        vertical-align: top;\n",
       "    }\n",
       "\n",
       "    .dataframe thead th {\n",
       "        text-align: right;\n",
       "    }\n",
       "</style>\n",
       "<table border=\"1\" class=\"dataframe\">\n",
       "  <thead>\n",
       "    <tr style=\"text-align: right;\">\n",
       "      <th></th>\n",
       "      <th>Hypothesis</th>\n",
       "      <th>Reach</th>\n",
       "      <th>Impact</th>\n",
       "      <th>Confidence</th>\n",
       "      <th>Efforts</th>\n",
       "    </tr>\n",
       "  </thead>\n",
       "  <tbody>\n",
       "    <tr>\n",
       "      <th>4</th>\n",
       "      <td>Изменить цвет фона главной страницы, чтобы уве...</td>\n",
       "      <td>3</td>\n",
       "      <td>1</td>\n",
       "      <td>1</td>\n",
       "      <td>1</td>\n",
       "    </tr>\n",
       "    <tr>\n",
       "      <th>5</th>\n",
       "      <td>Добавить страницу отзывов клиентов о магазине,...</td>\n",
       "      <td>3</td>\n",
       "      <td>2</td>\n",
       "      <td>2</td>\n",
       "      <td>3</td>\n",
       "    </tr>\n",
       "    <tr>\n",
       "      <th>6</th>\n",
       "      <td>Показать на главной странице баннеры с актуаль...</td>\n",
       "      <td>5</td>\n",
       "      <td>3</td>\n",
       "      <td>8</td>\n",
       "      <td>3</td>\n",
       "    </tr>\n",
       "    <tr>\n",
       "      <th>7</th>\n",
       "      <td>Добавить форму подписки на все основные страни...</td>\n",
       "      <td>10</td>\n",
       "      <td>7</td>\n",
       "      <td>8</td>\n",
       "      <td>5</td>\n",
       "    </tr>\n",
       "    <tr>\n",
       "      <th>8</th>\n",
       "      <td>Запустить акцию, дающую скидку на товар в день...</td>\n",
       "      <td>1</td>\n",
       "      <td>9</td>\n",
       "      <td>9</td>\n",
       "      <td>5</td>\n",
       "    </tr>\n",
       "  </tbody>\n",
       "</table>\n",
       "</div>"
      ],
      "text/plain": [
       "                                          Hypothesis  Reach  Impact  \\\n",
       "4  Изменить цвет фона главной страницы, чтобы уве...      3       1   \n",
       "5  Добавить страницу отзывов клиентов о магазине,...      3       2   \n",
       "6  Показать на главной странице баннеры с актуаль...      5       3   \n",
       "7  Добавить форму подписки на все основные страни...     10       7   \n",
       "8  Запустить акцию, дающую скидку на товар в день...      1       9   \n",
       "\n",
       "   Confidence  Efforts  \n",
       "4           1        1  \n",
       "5           2        3  \n",
       "6           8        3  \n",
       "7           8        5  \n",
       "8           9        5  "
      ]
     },
     "metadata": {},
     "output_type": "display_data"
    },
    {
     "data": {
      "text/plain": [
       "'Общая информация о датасете'"
      ]
     },
     "metadata": {},
     "output_type": "display_data"
    },
    {
     "name": "stdout",
     "output_type": "stream",
     "text": [
      "<class 'pandas.core.frame.DataFrame'>\n",
      "RangeIndex: 9 entries, 0 to 8\n",
      "Data columns (total 5 columns):\n",
      " #   Column      Non-Null Count  Dtype \n",
      "---  ------      --------------  ----- \n",
      " 0   Hypothesis  9 non-null      object\n",
      " 1   Reach       9 non-null      int64 \n",
      " 2   Impact      9 non-null      int64 \n",
      " 3   Confidence  9 non-null      int64 \n",
      " 4   Efforts     9 non-null      int64 \n",
      "dtypes: int64(4), object(1)\n",
      "memory usage: 488.0+ bytes\n"
     ]
    },
    {
     "data": {
      "text/plain": [
       "None"
      ]
     },
     "metadata": {},
     "output_type": "display_data"
    },
    {
     "data": {
      "text/plain": [
       "'Количество пропусков в датасете'"
      ]
     },
     "metadata": {},
     "output_type": "display_data"
    },
    {
     "data": {
      "text/plain": [
       "Hypothesis    0\n",
       "Reach         0\n",
       "Impact        0\n",
       "Confidence    0\n",
       "Efforts       0\n",
       "dtype: int64"
      ]
     },
     "metadata": {},
     "output_type": "display_data"
    },
    {
     "data": {
      "text/plain": [
       "'Количество дубликатов в датасете'"
      ]
     },
     "metadata": {},
     "output_type": "display_data"
    },
    {
     "data": {
      "text/plain": [
       "0"
      ]
     },
     "metadata": {},
     "output_type": "display_data"
    },
    {
     "data": {
      "text/plain": [
       "'Статистические показатели датасета'"
      ]
     },
     "metadata": {},
     "output_type": "display_data"
    },
    {
     "data": {
      "text/html": [
       "<div>\n",
       "<style scoped>\n",
       "    .dataframe tbody tr th:only-of-type {\n",
       "        vertical-align: middle;\n",
       "    }\n",
       "\n",
       "    .dataframe tbody tr th {\n",
       "        vertical-align: top;\n",
       "    }\n",
       "\n",
       "    .dataframe thead th {\n",
       "        text-align: right;\n",
       "    }\n",
       "</style>\n",
       "<table border=\"1\" class=\"dataframe\">\n",
       "  <thead>\n",
       "    <tr style=\"text-align: right;\">\n",
       "      <th></th>\n",
       "      <th>Reach</th>\n",
       "      <th>Impact</th>\n",
       "      <th>Confidence</th>\n",
       "      <th>Efforts</th>\n",
       "    </tr>\n",
       "  </thead>\n",
       "  <tbody>\n",
       "    <tr>\n",
       "      <th>count</th>\n",
       "      <td>9.000000</td>\n",
       "      <td>9.000000</td>\n",
       "      <td>9.000000</td>\n",
       "      <td>9.000000</td>\n",
       "    </tr>\n",
       "    <tr>\n",
       "      <th>mean</th>\n",
       "      <td>4.777778</td>\n",
       "      <td>4.777778</td>\n",
       "      <td>5.555556</td>\n",
       "      <td>4.888889</td>\n",
       "    </tr>\n",
       "    <tr>\n",
       "      <th>std</th>\n",
       "      <td>3.153481</td>\n",
       "      <td>3.192874</td>\n",
       "      <td>3.045944</td>\n",
       "      <td>2.803767</td>\n",
       "    </tr>\n",
       "    <tr>\n",
       "      <th>min</th>\n",
       "      <td>1.000000</td>\n",
       "      <td>1.000000</td>\n",
       "      <td>1.000000</td>\n",
       "      <td>1.000000</td>\n",
       "    </tr>\n",
       "    <tr>\n",
       "      <th>25%</th>\n",
       "      <td>3.000000</td>\n",
       "      <td>3.000000</td>\n",
       "      <td>3.000000</td>\n",
       "      <td>3.000000</td>\n",
       "    </tr>\n",
       "    <tr>\n",
       "      <th>50%</th>\n",
       "      <td>3.000000</td>\n",
       "      <td>3.000000</td>\n",
       "      <td>7.000000</td>\n",
       "      <td>5.000000</td>\n",
       "    </tr>\n",
       "    <tr>\n",
       "      <th>75%</th>\n",
       "      <td>8.000000</td>\n",
       "      <td>7.000000</td>\n",
       "      <td>8.000000</td>\n",
       "      <td>6.000000</td>\n",
       "    </tr>\n",
       "    <tr>\n",
       "      <th>max</th>\n",
       "      <td>10.000000</td>\n",
       "      <td>10.000000</td>\n",
       "      <td>9.000000</td>\n",
       "      <td>10.000000</td>\n",
       "    </tr>\n",
       "  </tbody>\n",
       "</table>\n",
       "</div>"
      ],
      "text/plain": [
       "           Reach     Impact  Confidence    Efforts\n",
       "count   9.000000   9.000000    9.000000   9.000000\n",
       "mean    4.777778   4.777778    5.555556   4.888889\n",
       "std     3.153481   3.192874    3.045944   2.803767\n",
       "min     1.000000   1.000000    1.000000   1.000000\n",
       "25%     3.000000   3.000000    3.000000   3.000000\n",
       "50%     3.000000   3.000000    7.000000   5.000000\n",
       "75%     8.000000   7.000000    8.000000   6.000000\n",
       "max    10.000000  10.000000    9.000000  10.000000"
      ]
     },
     "metadata": {},
     "output_type": "display_data"
    }
   ],
   "source": [
    "# изучим датасет\n",
    "desribe_dt(hypothesis)"
   ]
  },
  {
   "cell_type": "code",
   "execution_count": 5,
   "metadata": {},
   "outputs": [
    {
     "data": {
      "text/html": [
       "<div>\n",
       "<style scoped>\n",
       "    .dataframe tbody tr th:only-of-type {\n",
       "        vertical-align: middle;\n",
       "    }\n",
       "\n",
       "    .dataframe tbody tr th {\n",
       "        vertical-align: top;\n",
       "    }\n",
       "\n",
       "    .dataframe thead th {\n",
       "        text-align: right;\n",
       "    }\n",
       "</style>\n",
       "<table border=\"1\" class=\"dataframe\">\n",
       "  <thead>\n",
       "    <tr style=\"text-align: right;\">\n",
       "      <th></th>\n",
       "      <th>Hypothesis</th>\n",
       "      <th>Reach</th>\n",
       "      <th>Impact</th>\n",
       "      <th>Confidence</th>\n",
       "      <th>Efforts</th>\n",
       "    </tr>\n",
       "  </thead>\n",
       "  <tbody>\n",
       "    <tr>\n",
       "      <th>0</th>\n",
       "      <td>Добавить два новых канала привлечения трафика, что позволит привлекать на 30% больше пользователей</td>\n",
       "      <td>3</td>\n",
       "      <td>10</td>\n",
       "      <td>8</td>\n",
       "      <td>6</td>\n",
       "    </tr>\n",
       "    <tr>\n",
       "      <th>1</th>\n",
       "      <td>Запустить собственную службу доставки, что сократит срок доставки заказов</td>\n",
       "      <td>2</td>\n",
       "      <td>5</td>\n",
       "      <td>4</td>\n",
       "      <td>10</td>\n",
       "    </tr>\n",
       "    <tr>\n",
       "      <th>2</th>\n",
       "      <td>Добавить блоки рекомендаций товаров на сайт интернет магазина, чтобы повысить конверсию и средний чек заказа</td>\n",
       "      <td>8</td>\n",
       "      <td>3</td>\n",
       "      <td>7</td>\n",
       "      <td>3</td>\n",
       "    </tr>\n",
       "    <tr>\n",
       "      <th>3</th>\n",
       "      <td>Изменить структура категорий, что увеличит конверсию, т.к. пользователи быстрее найдут нужный товар</td>\n",
       "      <td>8</td>\n",
       "      <td>3</td>\n",
       "      <td>3</td>\n",
       "      <td>8</td>\n",
       "    </tr>\n",
       "    <tr>\n",
       "      <th>4</th>\n",
       "      <td>Изменить цвет фона главной страницы, чтобы увеличить вовлеченность пользователей</td>\n",
       "      <td>3</td>\n",
       "      <td>1</td>\n",
       "      <td>1</td>\n",
       "      <td>1</td>\n",
       "    </tr>\n",
       "    <tr>\n",
       "      <th>5</th>\n",
       "      <td>Добавить страницу отзывов клиентов о магазине, что позволит увеличить количество заказов</td>\n",
       "      <td>3</td>\n",
       "      <td>2</td>\n",
       "      <td>2</td>\n",
       "      <td>3</td>\n",
       "    </tr>\n",
       "    <tr>\n",
       "      <th>6</th>\n",
       "      <td>Показать на главной странице баннеры с актуальными акциями и распродажами, чтобы увеличить конверсию</td>\n",
       "      <td>5</td>\n",
       "      <td>3</td>\n",
       "      <td>8</td>\n",
       "      <td>3</td>\n",
       "    </tr>\n",
       "    <tr>\n",
       "      <th>7</th>\n",
       "      <td>Добавить форму подписки на все основные страницы, чтобы собрать базу клиентов для email-рассылок</td>\n",
       "      <td>10</td>\n",
       "      <td>7</td>\n",
       "      <td>8</td>\n",
       "      <td>5</td>\n",
       "    </tr>\n",
       "    <tr>\n",
       "      <th>8</th>\n",
       "      <td>Запустить акцию, дающую скидку на товар в день рождения</td>\n",
       "      <td>1</td>\n",
       "      <td>9</td>\n",
       "      <td>9</td>\n",
       "      <td>5</td>\n",
       "    </tr>\n",
       "  </tbody>\n",
       "</table>\n",
       "</div>"
      ],
      "text/plain": [
       "                                                                                                     Hypothesis  \\\n",
       "0            Добавить два новых канала привлечения трафика, что позволит привлекать на 30% больше пользователей   \n",
       "1                                     Запустить собственную службу доставки, что сократит срок доставки заказов   \n",
       "2  Добавить блоки рекомендаций товаров на сайт интернет магазина, чтобы повысить конверсию и средний чек заказа   \n",
       "3           Изменить структура категорий, что увеличит конверсию, т.к. пользователи быстрее найдут нужный товар   \n",
       "4                              Изменить цвет фона главной страницы, чтобы увеличить вовлеченность пользователей   \n",
       "5                      Добавить страницу отзывов клиентов о магазине, что позволит увеличить количество заказов   \n",
       "6          Показать на главной странице баннеры с актуальными акциями и распродажами, чтобы увеличить конверсию   \n",
       "7              Добавить форму подписки на все основные страницы, чтобы собрать базу клиентов для email-рассылок   \n",
       "8                                                       Запустить акцию, дающую скидку на товар в день рождения   \n",
       "\n",
       "   Reach  Impact  Confidence  Efforts  \n",
       "0      3      10           8        6  \n",
       "1      2       5           4       10  \n",
       "2      8       3           7        3  \n",
       "3      8       3           3        8  \n",
       "4      3       1           1        1  \n",
       "5      3       2           2        3  \n",
       "6      5       3           8        3  \n",
       "7     10       7           8        5  \n",
       "8      1       9           9        5  "
      ]
     },
     "execution_count": 5,
     "metadata": {},
     "output_type": "execute_result"
    }
   ],
   "source": [
    "# для удобства изменим масштаб\n",
    "pd.set_option('max_colwidth', 140) \n",
    "hypothesis"
   ]
  },
  {
   "cell_type": "markdown",
   "metadata": {},
   "source": [
    "<div class=\"alert alert-info\">\n",
    "    В датасете 5 столбцов. Первый содержит формулировку гипотезы, остальные дают оценку общепринятых критериев по 10-ти балльной шкале. Reach характеризует охват пользователей, Impact - силу влияния гипотезы на них, Confidence - уверенность в эффективности гипотезы, Efforts - оценка стоимости тестирования гипотезы. Исходя из полученных результатов, с данными все в порядке, можно приступить к приоритезации гипотез.\n",
    "</div>"
   ]
  },
  {
   "cell_type": "code",
   "execution_count": 6,
   "metadata": {
    "scrolled": true
   },
   "outputs": [
    {
     "data": {
      "text/html": [
       "<div>\n",
       "<style scoped>\n",
       "    .dataframe tbody tr th:only-of-type {\n",
       "        vertical-align: middle;\n",
       "    }\n",
       "\n",
       "    .dataframe tbody tr th {\n",
       "        vertical-align: top;\n",
       "    }\n",
       "\n",
       "    .dataframe thead th {\n",
       "        text-align: right;\n",
       "    }\n",
       "</style>\n",
       "<table border=\"1\" class=\"dataframe\">\n",
       "  <thead>\n",
       "    <tr style=\"text-align: right;\">\n",
       "      <th></th>\n",
       "      <th>Hypothesis</th>\n",
       "      <th>ICE</th>\n",
       "    </tr>\n",
       "  </thead>\n",
       "  <tbody>\n",
       "    <tr>\n",
       "      <th>8</th>\n",
       "      <td>Запустить акцию, дающую скидку на товар в день рождения</td>\n",
       "      <td>16.20</td>\n",
       "    </tr>\n",
       "    <tr>\n",
       "      <th>0</th>\n",
       "      <td>Добавить два новых канала привлечения трафика, что позволит привлекать на 30% больше пользователей</td>\n",
       "      <td>13.33</td>\n",
       "    </tr>\n",
       "    <tr>\n",
       "      <th>7</th>\n",
       "      <td>Добавить форму подписки на все основные страницы, чтобы собрать базу клиентов для email-рассылок</td>\n",
       "      <td>11.20</td>\n",
       "    </tr>\n",
       "    <tr>\n",
       "      <th>6</th>\n",
       "      <td>Показать на главной странице баннеры с актуальными акциями и распродажами, чтобы увеличить конверсию</td>\n",
       "      <td>8.00</td>\n",
       "    </tr>\n",
       "    <tr>\n",
       "      <th>2</th>\n",
       "      <td>Добавить блоки рекомендаций товаров на сайт интернет магазина, чтобы повысить конверсию и средний чек заказа</td>\n",
       "      <td>7.00</td>\n",
       "    </tr>\n",
       "    <tr>\n",
       "      <th>1</th>\n",
       "      <td>Запустить собственную службу доставки, что сократит срок доставки заказов</td>\n",
       "      <td>2.00</td>\n",
       "    </tr>\n",
       "    <tr>\n",
       "      <th>5</th>\n",
       "      <td>Добавить страницу отзывов клиентов о магазине, что позволит увеличить количество заказов</td>\n",
       "      <td>1.33</td>\n",
       "    </tr>\n",
       "    <tr>\n",
       "      <th>3</th>\n",
       "      <td>Изменить структура категорий, что увеличит конверсию, т.к. пользователи быстрее найдут нужный товар</td>\n",
       "      <td>1.12</td>\n",
       "    </tr>\n",
       "    <tr>\n",
       "      <th>4</th>\n",
       "      <td>Изменить цвет фона главной страницы, чтобы увеличить вовлеченность пользователей</td>\n",
       "      <td>1.00</td>\n",
       "    </tr>\n",
       "  </tbody>\n",
       "</table>\n",
       "</div>"
      ],
      "text/plain": [
       "                                                                                                     Hypothesis  \\\n",
       "8                                                       Запустить акцию, дающую скидку на товар в день рождения   \n",
       "0            Добавить два новых канала привлечения трафика, что позволит привлекать на 30% больше пользователей   \n",
       "7              Добавить форму подписки на все основные страницы, чтобы собрать базу клиентов для email-рассылок   \n",
       "6          Показать на главной странице баннеры с актуальными акциями и распродажами, чтобы увеличить конверсию   \n",
       "2  Добавить блоки рекомендаций товаров на сайт интернет магазина, чтобы повысить конверсию и средний чек заказа   \n",
       "1                                     Запустить собственную службу доставки, что сократит срок доставки заказов   \n",
       "5                      Добавить страницу отзывов клиентов о магазине, что позволит увеличить количество заказов   \n",
       "3           Изменить структура категорий, что увеличит конверсию, т.к. пользователи быстрее найдут нужный товар   \n",
       "4                              Изменить цвет фона главной страницы, чтобы увеличить вовлеченность пользователей   \n",
       "\n",
       "     ICE  \n",
       "8  16.20  \n",
       "0  13.33  \n",
       "7  11.20  \n",
       "6   8.00  \n",
       "2   7.00  \n",
       "1   2.00  \n",
       "5   1.33  \n",
       "3   1.12  \n",
       "4   1.00  "
      ]
     },
     "execution_count": 6,
     "metadata": {},
     "output_type": "execute_result"
    }
   ],
   "source": [
    "# добавим столбец ICE, рассчитаем его для гипотез и отсортируем\n",
    "hypothesis['ICE'] = round(hypothesis['Impact']*hypothesis['Confidence']/hypothesis['Efforts'], 2)\n",
    "hypothesis[['Hypothesis', 'ICE']].sort_values(by='ICE', ascending=False)"
   ]
  },
  {
   "cell_type": "code",
   "execution_count": 7,
   "metadata": {},
   "outputs": [
    {
     "data": {
      "text/html": [
       "<div>\n",
       "<style scoped>\n",
       "    .dataframe tbody tr th:only-of-type {\n",
       "        vertical-align: middle;\n",
       "    }\n",
       "\n",
       "    .dataframe tbody tr th {\n",
       "        vertical-align: top;\n",
       "    }\n",
       "\n",
       "    .dataframe thead th {\n",
       "        text-align: right;\n",
       "    }\n",
       "</style>\n",
       "<table border=\"1\" class=\"dataframe\">\n",
       "  <thead>\n",
       "    <tr style=\"text-align: right;\">\n",
       "      <th></th>\n",
       "      <th>Hypothesis</th>\n",
       "      <th>RICE</th>\n",
       "    </tr>\n",
       "  </thead>\n",
       "  <tbody>\n",
       "    <tr>\n",
       "      <th>7</th>\n",
       "      <td>Добавить форму подписки на все основные страницы, чтобы собрать базу клиентов для email-рассылок</td>\n",
       "      <td>112.0</td>\n",
       "    </tr>\n",
       "    <tr>\n",
       "      <th>2</th>\n",
       "      <td>Добавить блоки рекомендаций товаров на сайт интернет магазина, чтобы повысить конверсию и средний чек заказа</td>\n",
       "      <td>56.0</td>\n",
       "    </tr>\n",
       "    <tr>\n",
       "      <th>0</th>\n",
       "      <td>Добавить два новых канала привлечения трафика, что позволит привлекать на 30% больше пользователей</td>\n",
       "      <td>40.0</td>\n",
       "    </tr>\n",
       "    <tr>\n",
       "      <th>6</th>\n",
       "      <td>Показать на главной странице баннеры с актуальными акциями и распродажами, чтобы увеличить конверсию</td>\n",
       "      <td>40.0</td>\n",
       "    </tr>\n",
       "    <tr>\n",
       "      <th>8</th>\n",
       "      <td>Запустить акцию, дающую скидку на товар в день рождения</td>\n",
       "      <td>16.2</td>\n",
       "    </tr>\n",
       "    <tr>\n",
       "      <th>3</th>\n",
       "      <td>Изменить структура категорий, что увеличит конверсию, т.к. пользователи быстрее найдут нужный товар</td>\n",
       "      <td>9.0</td>\n",
       "    </tr>\n",
       "    <tr>\n",
       "      <th>1</th>\n",
       "      <td>Запустить собственную службу доставки, что сократит срок доставки заказов</td>\n",
       "      <td>4.0</td>\n",
       "    </tr>\n",
       "    <tr>\n",
       "      <th>5</th>\n",
       "      <td>Добавить страницу отзывов клиентов о магазине, что позволит увеличить количество заказов</td>\n",
       "      <td>4.0</td>\n",
       "    </tr>\n",
       "    <tr>\n",
       "      <th>4</th>\n",
       "      <td>Изменить цвет фона главной страницы, чтобы увеличить вовлеченность пользователей</td>\n",
       "      <td>3.0</td>\n",
       "    </tr>\n",
       "  </tbody>\n",
       "</table>\n",
       "</div>"
      ],
      "text/plain": [
       "                                                                                                     Hypothesis  \\\n",
       "7              Добавить форму подписки на все основные страницы, чтобы собрать базу клиентов для email-рассылок   \n",
       "2  Добавить блоки рекомендаций товаров на сайт интернет магазина, чтобы повысить конверсию и средний чек заказа   \n",
       "0            Добавить два новых канала привлечения трафика, что позволит привлекать на 30% больше пользователей   \n",
       "6          Показать на главной странице баннеры с актуальными акциями и распродажами, чтобы увеличить конверсию   \n",
       "8                                                       Запустить акцию, дающую скидку на товар в день рождения   \n",
       "3           Изменить структура категорий, что увеличит конверсию, т.к. пользователи быстрее найдут нужный товар   \n",
       "1                                     Запустить собственную службу доставки, что сократит срок доставки заказов   \n",
       "5                      Добавить страницу отзывов клиентов о магазине, что позволит увеличить количество заказов   \n",
       "4                              Изменить цвет фона главной страницы, чтобы увеличить вовлеченность пользователей   \n",
       "\n",
       "    RICE  \n",
       "7  112.0  \n",
       "2   56.0  \n",
       "0   40.0  \n",
       "6   40.0  \n",
       "8   16.2  \n",
       "3    9.0  \n",
       "1    4.0  \n",
       "5    4.0  \n",
       "4    3.0  "
      ]
     },
     "execution_count": 7,
     "metadata": {},
     "output_type": "execute_result"
    }
   ],
   "source": [
    "# добавим столбец RICE, рассчитаем его для гипотез и отсортируем\n",
    "hypothesis['RICE'] = hypothesis['Impact']*hypothesis['Confidence']*hypothesis['Reach']/hypothesis['Efforts']\n",
    "hypothesis[['Hypothesis', 'RICE']].sort_values(by='RICE', ascending=False)"
   ]
  },
  {
   "cell_type": "markdown",
   "metadata": {},
   "source": [
    "<div class=\"alert alert-info\">\n",
    "<p> Согласно фреймворку ICE наиболее эффективными гипотезами являются 1) запуск акции, дающей скидку на товар в день рождения; 2) добавление двух новых каналов привлечения трафика, которое позволит привлекать на 30% больше пользователей; 3) добавление формы подписки на все основные страницы для сбора базы клиентов для email-рассылок.\n",
    "<p> Согласно фреймворку RICE к перспективным гипотезам относятся 1) добавление формы подписки на все основные страницы сбора базы клиентов для email-рассылок; 2) добавление блоков рекомендаций товаров на сайт интернет магазина для повышения конверсии и среднего чека заказа; 3) добавление двух новых каналов привлечения трафика, которое позволит привлекать на 30% больше пользователей; 4) показ на главной странице баннеров с актуальными акциями и распродажами для увеличения конверсии.    \n",
    "<p> Отличие RICE от ICE заключается в том, что первый фреймворк включает компоненту Reach, которая оценивает охват пользователей. Именно она способствовала измению приоритизации гипотез при применении RICE вместо ICE. \n",
    "<p> Несмотря на различия данных фреймворков, первые 5 гипотез у них совпадают, но располагаются в разной последовательности. Например, запуск акции, дающей скидку на товар в день рождения, является наиболее приоритетной по ICE, а по по RICE она занимает 5-ую позицию. Более того, данная гипотеза имеет самый низкий показатель оценки охвата пользователей, так как данную акцию можно использовать только раз в году. Показ на главной странице баннеров с актуальными акциями и распродажами для увеличения конверсии находится на 4 вместе по обоим способам приоритизации. Добавить форму подписки на все основные страницы, чтобы собрать базу клиентов для email-рассылок является одной из самых перспективных из представленных гипотез, так как согласно ICE занимает 3-ю позицию, а согласно RICE - 1-ю. Добавление двух новых каналов привлечения трафика, которое позволит привлекать на 30% больше пользователей также имеет одни из самых высоких показателей и в том, и в другом методе.\n",
    "<p> Фреймворк RICE более полно раскрывает перспективы гипотез, чем ICE, поэтому лучше использовать его при выборе гипотез для анализа.\n",
    "</div>"
   ]
  },
  {
   "cell_type": "markdown",
   "metadata": {},
   "source": [
    "##  Часть 2: Анализ A/B-теста"
   ]
  },
  {
   "cell_type": "markdown",
   "metadata": {},
   "source": [
    "### Изучение данных"
   ]
  },
  {
   "cell_type": "code",
   "execution_count": 8,
   "metadata": {},
   "outputs": [],
   "source": [
    "# выгрузим датасеты для проведения анализ A/B-теста\n",
    "orders = pd.read_csv('C:/Users/gureyvskaya/Downloads/orders.csv')\n",
    "visitors = pd.read_csv('C:/Users/gureyvskaya/Downloads/visitors.csv')"
   ]
  },
  {
   "cell_type": "code",
   "execution_count": 9,
   "metadata": {},
   "outputs": [
    {
     "data": {
      "text/html": [
       "<div>\n",
       "<style scoped>\n",
       "    .dataframe tbody tr th:only-of-type {\n",
       "        vertical-align: middle;\n",
       "    }\n",
       "\n",
       "    .dataframe tbody tr th {\n",
       "        vertical-align: top;\n",
       "    }\n",
       "\n",
       "    .dataframe thead th {\n",
       "        text-align: right;\n",
       "    }\n",
       "</style>\n",
       "<table border=\"1\" class=\"dataframe\">\n",
       "  <thead>\n",
       "    <tr style=\"text-align: right;\">\n",
       "      <th></th>\n",
       "      <th>transactionId</th>\n",
       "      <th>visitorId</th>\n",
       "      <th>date</th>\n",
       "      <th>revenue</th>\n",
       "      <th>group</th>\n",
       "    </tr>\n",
       "  </thead>\n",
       "  <tbody>\n",
       "    <tr>\n",
       "      <th>0</th>\n",
       "      <td>3667963787</td>\n",
       "      <td>3312258926</td>\n",
       "      <td>2019-08-15</td>\n",
       "      <td>1650</td>\n",
       "      <td>B</td>\n",
       "    </tr>\n",
       "    <tr>\n",
       "      <th>1</th>\n",
       "      <td>2804400009</td>\n",
       "      <td>3642806036</td>\n",
       "      <td>2019-08-15</td>\n",
       "      <td>730</td>\n",
       "      <td>B</td>\n",
       "    </tr>\n",
       "    <tr>\n",
       "      <th>2</th>\n",
       "      <td>2961555356</td>\n",
       "      <td>4069496402</td>\n",
       "      <td>2019-08-15</td>\n",
       "      <td>400</td>\n",
       "      <td>A</td>\n",
       "    </tr>\n",
       "    <tr>\n",
       "      <th>3</th>\n",
       "      <td>3797467345</td>\n",
       "      <td>1196621759</td>\n",
       "      <td>2019-08-15</td>\n",
       "      <td>9759</td>\n",
       "      <td>B</td>\n",
       "    </tr>\n",
       "    <tr>\n",
       "      <th>4</th>\n",
       "      <td>2282983706</td>\n",
       "      <td>2322279887</td>\n",
       "      <td>2019-08-15</td>\n",
       "      <td>2308</td>\n",
       "      <td>B</td>\n",
       "    </tr>\n",
       "  </tbody>\n",
       "</table>\n",
       "</div>"
      ],
      "text/plain": [
       "   transactionId   visitorId        date  revenue group\n",
       "0     3667963787  3312258926  2019-08-15     1650     B\n",
       "1     2804400009  3642806036  2019-08-15      730     B\n",
       "2     2961555356  4069496402  2019-08-15      400     A\n",
       "3     3797467345  1196621759  2019-08-15     9759     B\n",
       "4     2282983706  2322279887  2019-08-15     2308     B"
      ]
     },
     "metadata": {},
     "output_type": "display_data"
    },
    {
     "data": {
      "text/html": [
       "<div>\n",
       "<style scoped>\n",
       "    .dataframe tbody tr th:only-of-type {\n",
       "        vertical-align: middle;\n",
       "    }\n",
       "\n",
       "    .dataframe tbody tr th {\n",
       "        vertical-align: top;\n",
       "    }\n",
       "\n",
       "    .dataframe thead th {\n",
       "        text-align: right;\n",
       "    }\n",
       "</style>\n",
       "<table border=\"1\" class=\"dataframe\">\n",
       "  <thead>\n",
       "    <tr style=\"text-align: right;\">\n",
       "      <th></th>\n",
       "      <th>transactionId</th>\n",
       "      <th>visitorId</th>\n",
       "      <th>date</th>\n",
       "      <th>revenue</th>\n",
       "      <th>group</th>\n",
       "    </tr>\n",
       "  </thead>\n",
       "  <tbody>\n",
       "    <tr>\n",
       "      <th>1192</th>\n",
       "      <td>2662137336</td>\n",
       "      <td>3733762160</td>\n",
       "      <td>2019-08-14</td>\n",
       "      <td>6490</td>\n",
       "      <td>B</td>\n",
       "    </tr>\n",
       "    <tr>\n",
       "      <th>1193</th>\n",
       "      <td>2203539145</td>\n",
       "      <td>370388673</td>\n",
       "      <td>2019-08-14</td>\n",
       "      <td>3190</td>\n",
       "      <td>A</td>\n",
       "    </tr>\n",
       "    <tr>\n",
       "      <th>1194</th>\n",
       "      <td>1807773912</td>\n",
       "      <td>573423106</td>\n",
       "      <td>2019-08-14</td>\n",
       "      <td>10550</td>\n",
       "      <td>A</td>\n",
       "    </tr>\n",
       "    <tr>\n",
       "      <th>1195</th>\n",
       "      <td>1947021204</td>\n",
       "      <td>1614305549</td>\n",
       "      <td>2019-08-14</td>\n",
       "      <td>100</td>\n",
       "      <td>A</td>\n",
       "    </tr>\n",
       "    <tr>\n",
       "      <th>1196</th>\n",
       "      <td>3936777065</td>\n",
       "      <td>2108080724</td>\n",
       "      <td>2019-08-15</td>\n",
       "      <td>202740</td>\n",
       "      <td>B</td>\n",
       "    </tr>\n",
       "  </tbody>\n",
       "</table>\n",
       "</div>"
      ],
      "text/plain": [
       "      transactionId   visitorId        date  revenue group\n",
       "1192     2662137336  3733762160  2019-08-14     6490     B\n",
       "1193     2203539145   370388673  2019-08-14     3190     A\n",
       "1194     1807773912   573423106  2019-08-14    10550     A\n",
       "1195     1947021204  1614305549  2019-08-14      100     A\n",
       "1196     3936777065  2108080724  2019-08-15   202740     B"
      ]
     },
     "metadata": {},
     "output_type": "display_data"
    },
    {
     "data": {
      "text/plain": [
       "'Общая информация о датасете'"
      ]
     },
     "metadata": {},
     "output_type": "display_data"
    },
    {
     "name": "stdout",
     "output_type": "stream",
     "text": [
      "<class 'pandas.core.frame.DataFrame'>\n",
      "RangeIndex: 1197 entries, 0 to 1196\n",
      "Data columns (total 5 columns):\n",
      " #   Column         Non-Null Count  Dtype \n",
      "---  ------         --------------  ----- \n",
      " 0   transactionId  1197 non-null   int64 \n",
      " 1   visitorId      1197 non-null   int64 \n",
      " 2   date           1197 non-null   object\n",
      " 3   revenue        1197 non-null   int64 \n",
      " 4   group          1197 non-null   object\n",
      "dtypes: int64(3), object(2)\n",
      "memory usage: 46.9+ KB\n"
     ]
    },
    {
     "data": {
      "text/plain": [
       "None"
      ]
     },
     "metadata": {},
     "output_type": "display_data"
    },
    {
     "data": {
      "text/plain": [
       "'Количество пропусков в датасете'"
      ]
     },
     "metadata": {},
     "output_type": "display_data"
    },
    {
     "data": {
      "text/plain": [
       "transactionId    0\n",
       "visitorId        0\n",
       "date             0\n",
       "revenue          0\n",
       "group            0\n",
       "dtype: int64"
      ]
     },
     "metadata": {},
     "output_type": "display_data"
    },
    {
     "data": {
      "text/plain": [
       "'Количество дубликатов в датасете'"
      ]
     },
     "metadata": {},
     "output_type": "display_data"
    },
    {
     "data": {
      "text/plain": [
       "0"
      ]
     },
     "metadata": {},
     "output_type": "display_data"
    },
    {
     "data": {
      "text/plain": [
       "'Статистические показатели датасета'"
      ]
     },
     "metadata": {},
     "output_type": "display_data"
    },
    {
     "data": {
      "text/html": [
       "<div>\n",
       "<style scoped>\n",
       "    .dataframe tbody tr th:only-of-type {\n",
       "        vertical-align: middle;\n",
       "    }\n",
       "\n",
       "    .dataframe tbody tr th {\n",
       "        vertical-align: top;\n",
       "    }\n",
       "\n",
       "    .dataframe thead th {\n",
       "        text-align: right;\n",
       "    }\n",
       "</style>\n",
       "<table border=\"1\" class=\"dataframe\">\n",
       "  <thead>\n",
       "    <tr style=\"text-align: right;\">\n",
       "      <th></th>\n",
       "      <th>transactionId</th>\n",
       "      <th>visitorId</th>\n",
       "      <th>revenue</th>\n",
       "    </tr>\n",
       "  </thead>\n",
       "  <tbody>\n",
       "    <tr>\n",
       "      <th>count</th>\n",
       "      <td>1.197000e+03</td>\n",
       "      <td>1.197000e+03</td>\n",
       "      <td>1.197000e+03</td>\n",
       "    </tr>\n",
       "    <tr>\n",
       "      <th>mean</th>\n",
       "      <td>2.155621e+09</td>\n",
       "      <td>2.165960e+09</td>\n",
       "      <td>8.348006e+03</td>\n",
       "    </tr>\n",
       "    <tr>\n",
       "      <th>std</th>\n",
       "      <td>1.229085e+09</td>\n",
       "      <td>1.236014e+09</td>\n",
       "      <td>3.919113e+04</td>\n",
       "    </tr>\n",
       "    <tr>\n",
       "      <th>min</th>\n",
       "      <td>1.062393e+06</td>\n",
       "      <td>5.114589e+06</td>\n",
       "      <td>5.000000e+01</td>\n",
       "    </tr>\n",
       "    <tr>\n",
       "      <th>25%</th>\n",
       "      <td>1.166776e+09</td>\n",
       "      <td>1.111826e+09</td>\n",
       "      <td>1.220000e+03</td>\n",
       "    </tr>\n",
       "    <tr>\n",
       "      <th>50%</th>\n",
       "      <td>2.145194e+09</td>\n",
       "      <td>2.217985e+09</td>\n",
       "      <td>2.978000e+03</td>\n",
       "    </tr>\n",
       "    <tr>\n",
       "      <th>75%</th>\n",
       "      <td>3.237740e+09</td>\n",
       "      <td>3.177606e+09</td>\n",
       "      <td>8.290000e+03</td>\n",
       "    </tr>\n",
       "    <tr>\n",
       "      <th>max</th>\n",
       "      <td>4.293856e+09</td>\n",
       "      <td>4.283872e+09</td>\n",
       "      <td>1.294500e+06</td>\n",
       "    </tr>\n",
       "  </tbody>\n",
       "</table>\n",
       "</div>"
      ],
      "text/plain": [
       "       transactionId     visitorId       revenue\n",
       "count   1.197000e+03  1.197000e+03  1.197000e+03\n",
       "mean    2.155621e+09  2.165960e+09  8.348006e+03\n",
       "std     1.229085e+09  1.236014e+09  3.919113e+04\n",
       "min     1.062393e+06  5.114589e+06  5.000000e+01\n",
       "25%     1.166776e+09  1.111826e+09  1.220000e+03\n",
       "50%     2.145194e+09  2.217985e+09  2.978000e+03\n",
       "75%     3.237740e+09  3.177606e+09  8.290000e+03\n",
       "max     4.293856e+09  4.283872e+09  1.294500e+06"
      ]
     },
     "metadata": {},
     "output_type": "display_data"
    }
   ],
   "source": [
    "# изучим orders\n",
    "desribe_dt(orders)"
   ]
  },
  {
   "cell_type": "code",
   "execution_count": 10,
   "metadata": {},
   "outputs": [],
   "source": [
    "# приведем date к типу datetime\n",
    "orders['date'] = orders['date'].map(\n",
    "    lambda x: dt.datetime.strptime(x, '%Y-%m-%d')\n",
    ")"
   ]
  },
  {
   "cell_type": "code",
   "execution_count": 11,
   "metadata": {},
   "outputs": [
    {
     "data": {
      "text/html": [
       "<div>\n",
       "<style scoped>\n",
       "    .dataframe tbody tr th:only-of-type {\n",
       "        vertical-align: middle;\n",
       "    }\n",
       "\n",
       "    .dataframe tbody tr th {\n",
       "        vertical-align: top;\n",
       "    }\n",
       "\n",
       "    .dataframe thead th {\n",
       "        text-align: right;\n",
       "    }\n",
       "</style>\n",
       "<table border=\"1\" class=\"dataframe\">\n",
       "  <thead>\n",
       "    <tr style=\"text-align: right;\">\n",
       "      <th></th>\n",
       "      <th>date</th>\n",
       "      <th>group</th>\n",
       "      <th>visitors</th>\n",
       "    </tr>\n",
       "  </thead>\n",
       "  <tbody>\n",
       "    <tr>\n",
       "      <th>0</th>\n",
       "      <td>2019-08-01</td>\n",
       "      <td>A</td>\n",
       "      <td>719</td>\n",
       "    </tr>\n",
       "    <tr>\n",
       "      <th>1</th>\n",
       "      <td>2019-08-02</td>\n",
       "      <td>A</td>\n",
       "      <td>619</td>\n",
       "    </tr>\n",
       "    <tr>\n",
       "      <th>2</th>\n",
       "      <td>2019-08-03</td>\n",
       "      <td>A</td>\n",
       "      <td>507</td>\n",
       "    </tr>\n",
       "    <tr>\n",
       "      <th>3</th>\n",
       "      <td>2019-08-04</td>\n",
       "      <td>A</td>\n",
       "      <td>717</td>\n",
       "    </tr>\n",
       "    <tr>\n",
       "      <th>4</th>\n",
       "      <td>2019-08-05</td>\n",
       "      <td>A</td>\n",
       "      <td>756</td>\n",
       "    </tr>\n",
       "  </tbody>\n",
       "</table>\n",
       "</div>"
      ],
      "text/plain": [
       "         date group  visitors\n",
       "0  2019-08-01     A       719\n",
       "1  2019-08-02     A       619\n",
       "2  2019-08-03     A       507\n",
       "3  2019-08-04     A       717\n",
       "4  2019-08-05     A       756"
      ]
     },
     "metadata": {},
     "output_type": "display_data"
    },
    {
     "data": {
      "text/html": [
       "<div>\n",
       "<style scoped>\n",
       "    .dataframe tbody tr th:only-of-type {\n",
       "        vertical-align: middle;\n",
       "    }\n",
       "\n",
       "    .dataframe tbody tr th {\n",
       "        vertical-align: top;\n",
       "    }\n",
       "\n",
       "    .dataframe thead th {\n",
       "        text-align: right;\n",
       "    }\n",
       "</style>\n",
       "<table border=\"1\" class=\"dataframe\">\n",
       "  <thead>\n",
       "    <tr style=\"text-align: right;\">\n",
       "      <th></th>\n",
       "      <th>date</th>\n",
       "      <th>group</th>\n",
       "      <th>visitors</th>\n",
       "    </tr>\n",
       "  </thead>\n",
       "  <tbody>\n",
       "    <tr>\n",
       "      <th>57</th>\n",
       "      <td>2019-08-27</td>\n",
       "      <td>B</td>\n",
       "      <td>720</td>\n",
       "    </tr>\n",
       "    <tr>\n",
       "      <th>58</th>\n",
       "      <td>2019-08-28</td>\n",
       "      <td>B</td>\n",
       "      <td>654</td>\n",
       "    </tr>\n",
       "    <tr>\n",
       "      <th>59</th>\n",
       "      <td>2019-08-29</td>\n",
       "      <td>B</td>\n",
       "      <td>531</td>\n",
       "    </tr>\n",
       "    <tr>\n",
       "      <th>60</th>\n",
       "      <td>2019-08-30</td>\n",
       "      <td>B</td>\n",
       "      <td>490</td>\n",
       "    </tr>\n",
       "    <tr>\n",
       "      <th>61</th>\n",
       "      <td>2019-08-31</td>\n",
       "      <td>B</td>\n",
       "      <td>718</td>\n",
       "    </tr>\n",
       "  </tbody>\n",
       "</table>\n",
       "</div>"
      ],
      "text/plain": [
       "          date group  visitors\n",
       "57  2019-08-27     B       720\n",
       "58  2019-08-28     B       654\n",
       "59  2019-08-29     B       531\n",
       "60  2019-08-30     B       490\n",
       "61  2019-08-31     B       718"
      ]
     },
     "metadata": {},
     "output_type": "display_data"
    },
    {
     "data": {
      "text/plain": [
       "'Общая информация о датасете'"
      ]
     },
     "metadata": {},
     "output_type": "display_data"
    },
    {
     "name": "stdout",
     "output_type": "stream",
     "text": [
      "<class 'pandas.core.frame.DataFrame'>\n",
      "RangeIndex: 62 entries, 0 to 61\n",
      "Data columns (total 3 columns):\n",
      " #   Column    Non-Null Count  Dtype \n",
      "---  ------    --------------  ----- \n",
      " 0   date      62 non-null     object\n",
      " 1   group     62 non-null     object\n",
      " 2   visitors  62 non-null     int64 \n",
      "dtypes: int64(1), object(2)\n",
      "memory usage: 1.6+ KB\n"
     ]
    },
    {
     "data": {
      "text/plain": [
       "None"
      ]
     },
     "metadata": {},
     "output_type": "display_data"
    },
    {
     "data": {
      "text/plain": [
       "'Количество пропусков в датасете'"
      ]
     },
     "metadata": {},
     "output_type": "display_data"
    },
    {
     "data": {
      "text/plain": [
       "date        0\n",
       "group       0\n",
       "visitors    0\n",
       "dtype: int64"
      ]
     },
     "metadata": {},
     "output_type": "display_data"
    },
    {
     "data": {
      "text/plain": [
       "'Количество дубликатов в датасете'"
      ]
     },
     "metadata": {},
     "output_type": "display_data"
    },
    {
     "data": {
      "text/plain": [
       "0"
      ]
     },
     "metadata": {},
     "output_type": "display_data"
    },
    {
     "data": {
      "text/plain": [
       "'Статистические показатели датасета'"
      ]
     },
     "metadata": {},
     "output_type": "display_data"
    },
    {
     "data": {
      "text/html": [
       "<div>\n",
       "<style scoped>\n",
       "    .dataframe tbody tr th:only-of-type {\n",
       "        vertical-align: middle;\n",
       "    }\n",
       "\n",
       "    .dataframe tbody tr th {\n",
       "        vertical-align: top;\n",
       "    }\n",
       "\n",
       "    .dataframe thead th {\n",
       "        text-align: right;\n",
       "    }\n",
       "</style>\n",
       "<table border=\"1\" class=\"dataframe\">\n",
       "  <thead>\n",
       "    <tr style=\"text-align: right;\">\n",
       "      <th></th>\n",
       "      <th>visitors</th>\n",
       "    </tr>\n",
       "  </thead>\n",
       "  <tbody>\n",
       "    <tr>\n",
       "      <th>count</th>\n",
       "      <td>62.000000</td>\n",
       "    </tr>\n",
       "    <tr>\n",
       "      <th>mean</th>\n",
       "      <td>607.290323</td>\n",
       "    </tr>\n",
       "    <tr>\n",
       "      <th>std</th>\n",
       "      <td>114.400560</td>\n",
       "    </tr>\n",
       "    <tr>\n",
       "      <th>min</th>\n",
       "      <td>361.000000</td>\n",
       "    </tr>\n",
       "    <tr>\n",
       "      <th>25%</th>\n",
       "      <td>534.000000</td>\n",
       "    </tr>\n",
       "    <tr>\n",
       "      <th>50%</th>\n",
       "      <td>624.500000</td>\n",
       "    </tr>\n",
       "    <tr>\n",
       "      <th>75%</th>\n",
       "      <td>710.500000</td>\n",
       "    </tr>\n",
       "    <tr>\n",
       "      <th>max</th>\n",
       "      <td>770.000000</td>\n",
       "    </tr>\n",
       "  </tbody>\n",
       "</table>\n",
       "</div>"
      ],
      "text/plain": [
       "         visitors\n",
       "count   62.000000\n",
       "mean   607.290323\n",
       "std    114.400560\n",
       "min    361.000000\n",
       "25%    534.000000\n",
       "50%    624.500000\n",
       "75%    710.500000\n",
       "max    770.000000"
      ]
     },
     "metadata": {},
     "output_type": "display_data"
    }
   ],
   "source": [
    "# изучим visitors\n",
    "desribe_dt(visitors)"
   ]
  },
  {
   "cell_type": "code",
   "execution_count": 12,
   "metadata": {},
   "outputs": [],
   "source": [
    "# приведем date к типу datetime\n",
    "visitors['date'] = visitors['date'].map(\n",
    "    lambda x: dt.datetime.strptime(x, '%Y-%m-%d')\n",
    ")"
   ]
  },
  {
   "cell_type": "code",
   "execution_count": 13,
   "metadata": {},
   "outputs": [
    {
     "data": {
      "text/html": [
       "<div>\n",
       "<style scoped>\n",
       "    .dataframe tbody tr th:only-of-type {\n",
       "        vertical-align: middle;\n",
       "    }\n",
       "\n",
       "    .dataframe tbody tr th {\n",
       "        vertical-align: top;\n",
       "    }\n",
       "\n",
       "    .dataframe thead th {\n",
       "        text-align: right;\n",
       "    }\n",
       "</style>\n",
       "<table border=\"1\" class=\"dataframe\">\n",
       "  <thead>\n",
       "    <tr style=\"text-align: right;\">\n",
       "      <th></th>\n",
       "      <th>visitorId</th>\n",
       "    </tr>\n",
       "    <tr>\n",
       "      <th>group</th>\n",
       "      <th></th>\n",
       "    </tr>\n",
       "  </thead>\n",
       "  <tbody>\n",
       "    <tr>\n",
       "      <th>A</th>\n",
       "      <td>503</td>\n",
       "    </tr>\n",
       "    <tr>\n",
       "      <th>B</th>\n",
       "      <td>586</td>\n",
       "    </tr>\n",
       "  </tbody>\n",
       "</table>\n",
       "</div>"
      ],
      "text/plain": [
       "       visitorId\n",
       "group           \n",
       "A            503\n",
       "B            586"
      ]
     },
     "execution_count": 13,
     "metadata": {},
     "output_type": "execute_result"
    }
   ],
   "source": [
    "# посмотрим на распределение количества пользователей по группам\n",
    "shareInOrders = orders.groupby('group').agg({'visitorId':'nunique'})\n",
    "shareInOrders"
   ]
  },
  {
   "cell_type": "code",
   "execution_count": 14,
   "metadata": {},
   "outputs": [
    {
     "data": {
      "text/plain": [
       "group    58\n",
       "dtype: int64"
      ]
     },
     "execution_count": 14,
     "metadata": {},
     "output_type": "execute_result"
    }
   ],
   "source": [
    "# количество пользователей, находящихся в обеих группах\n",
    "repeatVisitors = orders.groupby('visitorId').agg({'group':'nunique'})\n",
    "repeatVisitors[repeatVisitors['group']==2].count()"
   ]
  },
  {
   "cell_type": "markdown",
   "metadata": {},
   "source": [
    "<div class=\"alert alert-info\">\n",
    "<p> Пропуски и дубликаты в данных отсутствуют. Тип данных в столбце date был изменен с object на datetime64. При рассмотрении распределения количества пользователей по группам, было выявлено, что оно различается примерно на 14%, что может исказить результаты исследования. Также были посчитаны пользователи, которые находятся в обеих группах, их количество составило 58 человек, что это говорит об ошибке в сборе данных. Удаление этих пользователей повлияет на конверсию, поскольку мы можем удалить данных пользователей из таблицы с заказами, но не сможем удалить их из таблицы с визитами, так как там данные уже агрегированы за день."
   ]
  },
  {
   "cell_type": "markdown",
   "metadata": {},
   "source": [
    "### Построение графика кумулятивной выручки по группам"
   ]
  },
  {
   "cell_type": "code",
   "execution_count": 15,
   "metadata": {},
   "outputs": [],
   "source": [
    "# создаем массив уникальных пар значений дат и групп теста\n",
    "datesGroups = orders[['date','group']].drop_duplicates()"
   ]
  },
  {
   "cell_type": "code",
   "execution_count": 16,
   "metadata": {},
   "outputs": [
    {
     "data": {
      "image/png": "[encoded data removed]",
      "text/plain": [
       "<Figure size 864x432 with 1 Axes>"
      ]
     },
     "metadata": {
      "needs_background": "light"
     },
     "output_type": "display_data"
    }
   ],
   "source": [
    "# получаем агрегированные кумулятивные по дням данные о заказах \n",
    "ordersAggregated = datesGroups.apply(\n",
    "    lambda x: orders[\n",
    "        np.logical_and\n",
    "        (orders['date'] <= x['date'], orders['group'] == x['group'])\n",
    "    ].agg(\n",
    "        {\n",
    "            'date' : 'max', \n",
    "            'group' : 'max', \n",
    "            'transactionId' : 'nunique', \n",
    "            'visitorId' : 'nunique', \n",
    "            'revenue' : 'sum'\n",
    "        }\n",
    "    ), axis=1\n",
    ").sort_values(by=['date','group'])\n",
    "\n",
    "# получаем агрегированные кумулятивные по дням данные о посетителях интернет-магазина \n",
    "visitorsAggregated = datesGroups.apply(\n",
    "    lambda x: visitors[\n",
    "        np.logical_and\n",
    "        (visitors['date'] <= x['date'], visitors['group'] == x['group'])\n",
    "    ].agg(\n",
    "        {'date' : 'max', \n",
    "         'group' : 'max', \n",
    "         'visitors' : 'sum'\n",
    "        }\n",
    "    ), axis=1\n",
    ").sort_values(by=['date','group'])\n",
    "\n",
    "# объединяем кумулятивные данные в одной таблице и присваиваем ее столбцам понятные названия\n",
    "cumulativeData = ordersAggregated.merge(visitorsAggregated, left_on=['date', 'group'], right_on=['date', 'group'])\n",
    "cumulativeData.columns = ['date', 'group', 'orders', 'buyers', 'revenue', 'visitors']\n",
    "\n",
    "# датафрейм с кумулятивным количеством заказов и кумулятивной выручкой по дням в группе А\n",
    "cumulativeRevenueA = cumulativeData[cumulativeData['group']=='A'][['date','revenue', 'orders']]\n",
    "\n",
    "# датафрейм с кумулятивным количеством заказов и кумулятивной выручкой по дням в группе B\n",
    "cumulativeRevenueB = cumulativeData[cumulativeData['group']=='B'][['date','revenue', 'orders']]\n",
    "\n",
    "# изменим масштаб графика, чтобы даты не накладывались друг на друга\n",
    "fig, ax = plt.subplots(figsize=(12, 6))\n",
    "\n",
    "# строим график выручки группы А\n",
    "plt.plot(cumulativeRevenueA['date'], cumulativeRevenueA['revenue'], label='A')\n",
    "\n",
    "# строим график выручки группы B\n",
    "plt.plot(cumulativeRevenueB['date'], cumulativeRevenueB['revenue'], label='B')\n",
    "\n",
    "plt.title('График кумулятивной выручки по группам')\n",
    "plt.xlabel('Дата')\n",
    "plt.ylabel('Выручка,млн.у.е.')\n",
    "plt.legend();"
   ]
  },
  {
   "cell_type": "markdown",
   "metadata": {},
   "source": [
    "<div class=\"alert alert-info\">\n",
    "<p> С 1 августа 2019 года наблюдался рост выручки по обеим группам. В период с 1 по 5 августа рост выручки в группе В незначительно опережал рост выручки в группе А. После 5 августа выручка в группе В увеличивалась быстрее, чем в группе А. Тем не менее, 13 августа группа А догнала группу В по объему выручки, после чего произошел резкий скачок кривой выручки группы В, после чего данная группа в значительной мере опередила группу А.\n",
    "<p> Такой резкий скачок увеличения выручки может быть связан с крупной покупкой, которая не характерна для интернет-магазина. Еще одним возможным вариантом является всплекс количества заказов. Далее рассмотрим подробнее."
   ]
  },
  {
   "cell_type": "markdown",
   "metadata": {},
   "source": [
    "### Построение графика кумулятивного среднего чека по группам"
   ]
  },
  {
   "cell_type": "code",
   "execution_count": 17,
   "metadata": {},
   "outputs": [
    {
     "data": {
      "image/png": "[encoded data removed]",
      "text/plain": [
       "<Figure size 864x432 with 1 Axes>"
      ]
     },
     "metadata": {
      "needs_background": "light"
     },
     "output_type": "display_data"
    }
   ],
   "source": [
    "# изменим масштаб графика, чтобы даты не накладывались друг на друга\n",
    "fig, ax = plt.subplots(figsize=(12, 6))\n",
    "\n",
    "# строим график выручки группы А\n",
    "plt.plot(cumulativeRevenueA['date'], cumulativeRevenueA['revenue']/cumulativeRevenueA['orders'], label='A')\n",
    "\n",
    "# строим график выручки группы B\n",
    "plt.plot(cumulativeRevenueB['date'], cumulativeRevenueB['revenue']/cumulativeRevenueB['orders'], label='B')\n",
    "\n",
    "plt.title('График кумулятивного среднего чека по группам')\n",
    "plt.xlabel('Дата')\n",
    "plt.ylabel('Средний чек,млн.у.е.')\n",
    "plt.legend();"
   ]
  },
  {
   "cell_type": "markdown",
   "metadata": {},
   "source": [
    "<div class=\"alert alert-info\">\n",
    "<p> Средний чек группы В практически весь рассматриваемый период превышает средний чек группы А. Лишь с 12 по 15 августа группа А обогнала группу В по данному показателю. 18 августа в группе В наблюдался резкий скачок роста среднего чека, что подтверждает нашу гипотезу о появлении аномально крупных заказов. После данного всплеска средний чек группы В начал постепенно снижаться, в то время как средний чек группы А плавно рос. Стоит отметить резкое увеличение среднего чека и группа А, произошедшее 13 августа, после чего до 18 августа средний чек начал падать.    "
   ]
  },
  {
   "cell_type": "markdown",
   "metadata": {},
   "source": [
    "### Построение графика относительного изменения кумулятивного среднего чека группы B к группе A"
   ]
  },
  {
   "cell_type": "code",
   "execution_count": 18,
   "metadata": {},
   "outputs": [
    {
     "data": {
      "image/png": "[encoded data removed]",
      "text/plain": [
       "<Figure size 864x432 with 1 Axes>"
      ]
     },
     "metadata": {
      "needs_background": "light"
     },
     "output_type": "display_data"
    }
   ],
   "source": [
    "# собираем данные в одном датафрейме\n",
    "mergedCumulativeRevenue = cumulativeRevenueA.merge(\n",
    "    cumulativeRevenueB, \n",
    "    left_on='date', \n",
    "    right_on='date', \n",
    "    how='left', \n",
    "    suffixes=['A', 'B'])\n",
    "\n",
    "# изменим масштаб графика, чтобы даты не накладывались друг на друга\n",
    "fig, ax = plt.subplots(figsize=(12, 6))\n",
    "\n",
    "# cтроим отношение средних чеков\n",
    "plt.plot(\n",
    "    mergedCumulativeRevenue['date'], \n",
    "    (mergedCumulativeRevenue['revenueB']/mergedCumulativeRevenue['ordersB'])/(mergedCumulativeRevenue['revenueA']/mergedCumulativeRevenue['ordersA'])-1)\n",
    "\n",
    "# добавляем ось X\n",
    "plt.axhline(y=0, color='black', linestyle='--')\n",
    "plt.xlabel('Дата')\n",
    "plt.title('График относительного изменения кумулятивного среднего чека группы B к группе A');"
   ]
  },
  {
   "cell_type": "markdown",
   "metadata": {},
   "source": [
    "<div class=\"alert alert-info\">\n",
    "<p> Из графика можно сделать вывод, что в данных точно имеются крупные заказы и выбросы, так как в нескольких точках график различия между сегментами резко «скачет». Стоит также отметить, что большую часть рассматриваемого периода группа А значительно проигрывала группе В."
   ]
  },
  {
   "cell_type": "markdown",
   "metadata": {},
   "source": [
    "### Построение графика кумулятивного среднего количества заказов на посетителя по группам"
   ]
  },
  {
   "cell_type": "code",
   "execution_count": 19,
   "metadata": {},
   "outputs": [
    {
     "name": "stdout",
     "output_type": "stream",
     "text": [
      "min_date: 2019-08-01 00:00:00\n",
      "max_date: 2019-08-31 00:00:00\n"
     ]
    }
   ],
   "source": [
    "print('min_date:', cumulativeData['date'].min())\n",
    "print('max_date:', cumulativeData['date'].max())"
   ]
  },
  {
   "cell_type": "code",
   "execution_count": 20,
   "metadata": {},
   "outputs": [
    {
     "data": {
      "image/png": "[encoded data removed]",
      "text/plain": [
       "<Figure size 864x432 with 1 Axes>"
      ]
     },
     "metadata": {
      "needs_background": "light"
     },
     "output_type": "display_data"
    }
   ],
   "source": [
    "# считаем кумулятивное среднее количество заказов \n",
    "cumulativeData['conversion'] = cumulativeData['orders']/cumulativeData['visitors']\n",
    "\n",
    "# отделяем данные по группе A\n",
    "cumulativeDataA = cumulativeData[cumulativeData['group']=='A']\n",
    "\n",
    "# отделяем данные по группе B\n",
    "cumulativeDataB = cumulativeData[cumulativeData['group']=='B']\n",
    "\n",
    "# изменим масштаб графика, чтобы даты не накладывались друг на друга\n",
    "fig, ax = plt.subplots(figsize=(12, 6))\n",
    "\n",
    "# строим графики\n",
    "plt.plot(cumulativeDataA['date'], cumulativeDataA['conversion'], label='A')\n",
    "plt.plot(cumulativeDataB['date'], cumulativeDataB['conversion'], label='B')\n",
    "plt.legend()\n",
    "\n",
    "# задаем масштаб осей\n",
    "plt.axis([dt.datetime(2019, 8, 1), dt.datetime(2019, 8, 31), 0.025, 0.04])\n",
    "\n",
    "plt.xlabel('Дата')\n",
    "plt.title('График кумулятивного среднего количества заказов на посетителя по группам');"
   ]
  },
  {
   "cell_type": "markdown",
   "metadata": {},
   "source": [
    "<div class=\"alert alert-info\">\n",
    "<p> В первые 5 дней прирост среднего количества заказов на посетителя был больше у группы А. Наибольшее значение данного показателя у группы А было 3 августа, после чего началось его падение. В группе В наблюдалось снижение среднего количества заказов на 4 день, за которым последовал рост. После 8 августа наблюдается некоторая стабилизация показатея по обеим группам."
   ]
  },
  {
   "cell_type": "markdown",
   "metadata": {},
   "source": [
    "### Построение графика относительного изменения кумулятивного среднего количества заказов на посетителя группы B к группе A"
   ]
  },
  {
   "cell_type": "code",
   "execution_count": 21,
   "metadata": {},
   "outputs": [
    {
     "data": {
      "image/png": "[encoded data removed]",
      "text/plain": [
       "<Figure size 864x432 with 1 Axes>"
      ]
     },
     "metadata": {
      "needs_background": "light"
     },
     "output_type": "display_data"
    }
   ],
   "source": [
    "# подготовим данные\n",
    "mergedCumulativeConversions = cumulativeDataA[['date','conversion']].merge(\n",
    "    cumulativeDataB[['date','conversion']], \n",
    "    left_on='date', \n",
    "    right_on='date', \n",
    "    how='left', \n",
    "    suffixes=['A', 'B'])\n",
    "\n",
    "# изменим масштаб графика, чтобы даты не накладывались друг на друга\n",
    "fig, ax = plt.subplots(figsize=(12, 6))\n",
    "\n",
    "#построим график\n",
    "plt.plot(mergedCumulativeConversions['date'], \n",
    "         mergedCumulativeConversions['conversionB']/mergedCumulativeConversions['conversionA']-1, \n",
    "         label = \"Относительный среднего количества заказов на посетителя группы B относительно группы A\")\n",
    "plt.legend()\n",
    "\n",
    "plt.axhline(y=0, color='black', linestyle='--')\n",
    "plt.axhline(y=0.2, color='grey', linestyle='--')\n",
    "plt.axis([dt.datetime(2019, 8, 1), dt.datetime(2019, 8, 31), -0.3, 0.4])\n",
    "\n",
    "plt.title('График относительного изменения кумулятивного среднего количества заказов на посетителя группы B к группе A')\n",
    "plt.xlabel('Дата');"
   ]
  },
  {
   "cell_type": "markdown",
   "metadata": {},
   "source": [
    "<div class=\"alert alert-info\">\n",
    "<p> До 5 августа по среднему количеству заказов на посетителя лидировала группа А, после этой даты группа В вырвалась вперед."
   ]
  },
  {
   "cell_type": "markdown",
   "metadata": {},
   "source": [
    "### Построение точечного графика количества заказов по пользователям"
   ]
  },
  {
   "cell_type": "code",
   "execution_count": 22,
   "metadata": {},
   "outputs": [
    {
     "data": {
      "image/png": "[encoded data removed]",
      "text/plain": [
       "<Figure size 864x432 with 1 Axes>"
      ]
     },
     "metadata": {
      "needs_background": "light"
     },
     "output_type": "display_data"
    }
   ],
   "source": [
    "# сгруппируем данные для построения графика\n",
    "ordersByUsers = (\n",
    "    orders.groupby('visitorId', as_index=False)\n",
    "    .agg({'transactionId': pd.Series.nunique})\n",
    ")\n",
    "ordersByUsers.columns = ['visitorId', 'orders']\n",
    "\n",
    "# серия из чисел от 0 до количества наблюдений в ordersByUsers\n",
    "x_values = pd.Series(range(0, len(ordersByUsers)))\n",
    "\n",
    "# изменим масштаб графика\n",
    "fig, ax = plt.subplots(figsize=(12, 6))\n",
    "\n",
    "# построим график\n",
    "plt.scatter(x_values, ordersByUsers['orders']);\n",
    "\n",
    "plt.title('Точечный график количества заказов по пользователям')\n",
    "plt.ylabel('Количество заказов');"
   ]
  },
  {
   "cell_type": "markdown",
   "metadata": {},
   "source": [
    "<div class=\"alert alert-info\">\n",
    "<p> Основная часть пользователей сделала только один заказ. Тех, кто совершил 2 покупки, крайне мало. Также наблюдаются выбросы, превышающие 3 заказа."
   ]
  },
  {
   "cell_type": "markdown",
   "metadata": {},
   "source": [
    "### Расчет 95-го и 99-го перцентилей количества заказов на пользователя"
   ]
  },
  {
   "cell_type": "code",
   "execution_count": 23,
   "metadata": {},
   "outputs": [
    {
     "data": {
      "text/plain": [
       "array([2., 4.])"
      ]
     },
     "execution_count": 23,
     "metadata": {},
     "output_type": "execute_result"
    }
   ],
   "source": [
    "np.percentile(ordersByUsers['orders'], [95, 99])"
   ]
  },
  {
   "cell_type": "markdown",
   "metadata": {},
   "source": [
    "<div class=\"alert alert-info\">\n",
    "<p> Не более 5% пользователей оформляли больше чем 2 заказа. И только 1% пользователей заказывали более четырех раз. \n",
    "Выберем 2 заказа на одного пользователя за верхнюю границу числа заказов, и отсеять аномальных пользователей по ней. "
   ]
  },
  {
   "cell_type": "markdown",
   "metadata": {},
   "source": [
    "### Построение точечного графика стоимостей заказов"
   ]
  },
  {
   "cell_type": "code",
   "execution_count": 24,
   "metadata": {},
   "outputs": [
    {
     "data": {
      "image/png": "[encoded data removed]",
      "text/plain": [
       "<Figure size 864x432 with 1 Axes>"
      ]
     },
     "metadata": {
      "needs_background": "light"
     },
     "output_type": "display_data"
    }
   ],
   "source": [
    "# серия из чисел от 0 до количества наблюдений в ordersByUsers\n",
    "x_values = pd.Series(range(0, len(orders['revenue'])))\n",
    "\n",
    "# изменим масштаб графика\n",
    "fig, ax = plt.subplots(figsize=(12, 6))\n",
    "\n",
    "# построим график\n",
    "plt.scatter(x_values, orders['revenue']);\n",
    "plt.title('Точечный график стоимостей заказов')\n",
    "plt.ylabel('Стоимость заказа в млн у.е.');"
   ]
  },
  {
   "cell_type": "code",
   "execution_count": 25,
   "metadata": {},
   "outputs": [
    {
     "data": {
      "image/png": "[encoded data removed]",
      "text/plain": [
       "<Figure size 864x432 with 1 Axes>"
      ]
     },
     "metadata": {
      "needs_background": "light"
     },
     "output_type": "display_data"
    }
   ],
   "source": [
    "# посмотрим более детально на распределение стоимости заказов\n",
    "# изменим масштаб графика\n",
    "fig, ax = plt.subplots(figsize=(12, 6))\n",
    "\n",
    "# задаем масштаб осей\n",
    "plt.ylim([0, 100000])\n",
    "\n",
    "# построим график\n",
    "plt.scatter(x_values, orders['revenue']);\n",
    "plt.title('Точечный график стоимостей заказов')\n",
    "plt.ylabel('Стоимость заказа у.е.');"
   ]
  },
  {
   "cell_type": "markdown",
   "metadata": {},
   "source": [
    "<div class=\"alert alert-info\">\n",
    "<p> Большая часть заказов распределена равномерно, в основном их стоимость не превышает 100 000 у.е. Большая часть заказов находится в диапазоне от 0 до 10 000 у.е. Также наблюдаются выбросы: заказ на сумму боле 1,2 млн у.е. и на сумму 200 тыс. у.е."
   ]
  },
  {
   "cell_type": "markdown",
   "metadata": {},
   "source": [
    "### Расчет 95-го и 99-го перцентилей стоимости заказов"
   ]
  },
  {
   "cell_type": "code",
   "execution_count": 26,
   "metadata": {},
   "outputs": [
    {
     "data": {
      "text/plain": [
       "array([28000. , 58233.2])"
      ]
     },
     "execution_count": 26,
     "metadata": {},
     "output_type": "execute_result"
    }
   ],
   "source": [
    "np.percentile(orders['revenue'], [95, 99])"
   ]
  },
  {
   "cell_type": "markdown",
   "metadata": {},
   "source": [
    "<div class=\"alert alert-info\">\n",
    "<p> Не более 5% пользователей оформляют покупки на сумму 28 тыс.у.е., а только 1% пользователей заказывали на сумму более чем 58,2 тыс.у.е. Примем за границу для удаления аномальных заказов 28 тыс.у.е."
   ]
  },
  {
   "cell_type": "markdown",
   "metadata": {},
   "source": [
    "### Расчет статистической значимости различий в среднем количестве заказов на посетителя между группами по «сырым» данным"
   ]
  },
  {
   "cell_type": "markdown",
   "metadata": {},
   "source": [
    "Сформулируем гипотезы: \n",
    "* **нулевая**: различий в среднем количестве заказов между группами нет; \n",
    "* **альтернативная:** различия в среднем между группами есть.\n",
    "<p>Для проверки гипотезы будем сипользовать непараметрический тест Уилкоксона-Манна-Уитни, а значение критического уровня статистической значимости примем за alpha = 0.05."
   ]
  },
  {
   "cell_type": "code",
   "execution_count": 27,
   "metadata": {},
   "outputs": [
    {
     "name": "stdout",
     "output_type": "stream",
     "text": [
      "p-value: 0.0168\n",
      "Относительные различия в среднем чеке между группами: 0.1381\n"
     ]
    }
   ],
   "source": [
    "# подготовим данные для расчета\n",
    "\n",
    "# кол-во покупателей по дням для группы А\n",
    "visitorsADaily = visitors[visitors['group'] == 'A'][['date', 'visitors']]\n",
    "visitorsADaily.columns = ['date', 'visitorsPerDateA']\n",
    "\n",
    "# кол-во покупателей по дням для группы А с накоплением\n",
    "visitorsACummulative = visitorsADaily.apply(\n",
    "    lambda x: visitorsADaily[visitorsADaily['date'] <= x['date']].agg(\n",
    "        {'date': 'max', 'visitorsPerDateA': 'sum'}\n",
    "    ),\n",
    "    axis=1,\n",
    ")\n",
    "visitorsACummulative.columns = ['date', 'visitorsCummulativeA']\n",
    "\n",
    "# кол-во покупателей по дням для группы В\n",
    "visitorsBDaily = visitors[visitors['group'] == 'B'][['date', 'visitors']]\n",
    "visitorsBDaily.columns = ['date', 'visitorsPerDateB']\n",
    "\n",
    "# кол-во покупателей по дням для группы В с накоплением\n",
    "visitorsBCummulative = visitorsBDaily.apply(\n",
    "    lambda x: visitorsBDaily[visitorsBDaily['date'] <= x['date']].agg(\n",
    "        {'date': 'max', 'visitorsPerDateB': 'sum'}\n",
    "    ),\n",
    "    axis=1,\n",
    ")\n",
    "visitorsBCummulative.columns = ['date', 'visitorsCummulativeB']\n",
    "\n",
    "# кол-во заказов по дням для группы А\n",
    "ordersADaily = (\n",
    "    orders[orders['group'] == 'A'][['date', 'transactionId', 'visitorId', 'revenue']]\n",
    "    .groupby('date', as_index=False)\n",
    "    .agg({'transactionId': pd.Series.nunique, 'revenue': 'sum'})\n",
    ")\n",
    "ordersADaily.columns = ['date', 'ordersPerDateA', 'revenuePerDateA']\n",
    "\n",
    "# кол-во заказов по дням для группы А с накоплением\n",
    "ordersACummulative = ordersADaily.apply(\n",
    "    lambda x: ordersADaily[ordersADaily['date'] <= x['date']].agg(\n",
    "        {'date': 'max', 'ordersPerDateA': 'sum', 'revenuePerDateA': 'sum'}\n",
    "    ),\n",
    "    axis=1,\n",
    ").sort_values(by=['date'])\n",
    "ordersACummulative.columns = [\n",
    "    'date',\n",
    "    'ordersCummulativeA',\n",
    "    'revenueCummulativeA',\n",
    "]\n",
    "\n",
    "# кол-во заказов по дням для группы В\n",
    "ordersBDaily = (\n",
    "    orders[orders['group'] == 'B'][['date', 'transactionId', 'visitorId', 'revenue']]\n",
    "    .groupby('date', as_index=False)\n",
    "    .agg({'transactionId': pd.Series.nunique, 'revenue': 'sum'})\n",
    ")\n",
    "ordersBDaily.columns = ['date', 'ordersPerDateB', 'revenuePerDateB']\n",
    "\n",
    "# кол-во заказов по дням для группы А с накоплением\n",
    "ordersBCummulative = ordersBDaily.apply(\n",
    "    lambda x: ordersBDaily[ordersBDaily['date'] <= x['date']].agg(\n",
    "        {'date': 'max', 'ordersPerDateB': 'sum', 'revenuePerDateB': 'sum'}\n",
    "    ),\n",
    "    axis=1,\n",
    ").sort_values(by=['date'])\n",
    "ordersBCummulative.columns = [\n",
    "    'date',\n",
    "    'ordersCummulativeB',\n",
    "    'revenueCummulativeB',\n",
    "]\n",
    "\n",
    "# объединим полученные данные\n",
    "data = (\n",
    "    ordersADaily.merge(\n",
    "        ordersBDaily, left_on='date', right_on='date', how='left'\n",
    "    )\n",
    "    .merge(ordersACummulative, left_on='date', right_on='date', how='left')\n",
    "    .merge(ordersBCummulative, left_on='date', right_on='date', how='left')\n",
    "    .merge(visitorsADaily, left_on='date', right_on='date', how='left')\n",
    "    .merge(visitorsBDaily, left_on='date', right_on='date', how='left')\n",
    "    .merge(visitorsACummulative, left_on='date', right_on='date', how='left')\n",
    "    .merge(visitorsBCummulative, left_on='date', right_on='date', how='left')\n",
    ")\n",
    "\n",
    "# кол-во заказов для пользователей группы А, совершивших хотя бы 1 заказ\n",
    "\n",
    "ordersByUsersA = (\n",
    "    orders[orders['group'] == 'A']\n",
    "    .groupby('visitorId', as_index=False)\n",
    "    .agg({'transactionId': pd.Series.nunique})\n",
    ")\n",
    "ordersByUsersA.columns = ['visitorId', 'orders']\n",
    "\n",
    "# кол-во заказов для пользователей группы В, совершивших хотя бы 1 заказ\n",
    "ordersByUsersB = (\n",
    "    orders[orders['group'] == 'B']\n",
    "    .groupby('visitorId', as_index=False)\n",
    "    .agg({'transactionId': pd.Series.nunique})\n",
    ")\n",
    "ordersByUsersB.columns = ['visitorId', 'orders'] \n",
    "\n",
    "# для пользователей с заказами - число заказов пользователя, а для пользователей без заказов — нули\n",
    "sampleA = pd.concat([ordersByUsersA['orders'], pd.Series(0, index=np.arange(data['visitorsPerDateA'].sum() - len(ordersByUsersA['orders'])), name='orders')],axis=0)\n",
    "\n",
    "sampleB = pd.concat([ordersByUsersB['orders'],pd.Series(0, index=np.arange(data['visitorsPerDateB'].sum() - len(ordersByUsersB['orders'])), name='orders')],axis=0)\n",
    "\n",
    "# расчет статистической значимости\n",
    "print(\"p-value:\", \"{0:.4f}\".format(stats.mannwhitneyu(sampleA, sampleB)[1]))\n",
    "print('Относительные различия в среднем чеке между группами:', \"{0:.4f}\".format(sampleB.mean() / sampleA.mean() - 1))"
   ]
  },
  {
   "cell_type": "markdown",
   "metadata": {},
   "source": [
    "<div class=\"alert alert-info\">\n",
    "<p> p-value = 0.0168 меньше 0.05, исходя из чего нулевую гипотезу о том, что статистически значимых различий в среднем количестве заказов между группами нет, отвергаем. Относительный прирост среднего количества заказов на посетителя группы В к среднему количеству заказов группы А равен 13,81%."
   ]
  },
  {
   "cell_type": "markdown",
   "metadata": {},
   "source": [
    "### Расчет статистической значимости различий в среднем чеке заказа между группами по «сырым» данным"
   ]
  },
  {
   "cell_type": "markdown",
   "metadata": {},
   "source": [
    "Сформулируем гипотезы: \n",
    "* **нулевая**: различий в среднем количестве заказов между группами нет; \n",
    "* **альтернативная:** различия в среднем между группами есть."
   ]
  },
  {
   "cell_type": "code",
   "execution_count": 28,
   "metadata": {},
   "outputs": [
    {
     "name": "stdout",
     "output_type": "stream",
     "text": [
      "p-value: 0.7293\n",
      "Относительные различия в среднем чеке между группами: 0.2587\n"
     ]
    }
   ],
   "source": [
    "# расчет статистической значимости\n",
    "print(\"p-value:\", '{0:.4f}'.format(stats.mannwhitneyu(orders[orders['group']=='A']['revenue'], \n",
    "                                          orders[orders['group']=='B']['revenue'])[1]))\n",
    "print('Относительные различия в среднем чеке между группами:', '{0:.4f}'.format(orders[orders['group']=='B']['revenue']\n",
    "                       .mean()/orders[orders['group']=='A']['revenue']\n",
    "                       .mean()-1)) "
   ]
  },
  {
   "cell_type": "markdown",
   "metadata": {},
   "source": [
    "<div class=\"alert alert-info\">\n",
    "<p> Исходя из значения p-value, можно говорить об отсутствии статистически значимых отличий в среднем чеке между группами, то есть средний чек группы B равен среднему чеку группы A. Наблюдаемое различие не значимо, получено случайно из-за единичных выбросов."
   ]
  },
  {
   "cell_type": "markdown",
   "metadata": {},
   "source": [
    "### Расчет статистической значимости различий в среднем количестве заказов на посетителя между группами по «очищенным» данным"
   ]
  },
  {
   "cell_type": "markdown",
   "metadata": {},
   "source": [
    "Сформулируем гипотезы: \n",
    "* **нулевая**: различий в среднем количестве заказов «очищенным» данным между группами нет; \n",
    "* **альтернативная:** различия в среднем между группами есть."
   ]
  },
  {
   "cell_type": "code",
   "execution_count": 29,
   "metadata": {},
   "outputs": [
    {
     "name": "stdout",
     "output_type": "stream",
     "text": [
      "1099    148427295\n",
      "18      199603092\n",
      "928     204675465\n",
      "23      237748145\n",
      "37      249864742\n",
      "Name: visitorId, dtype: int64\n",
      "74\n"
     ]
    }
   ],
   "source": [
    "# посмотрим, сколько у нас аномальных пользователей\n",
    "usersWithManyOrders = pd.concat(\n",
    "    [\n",
    "        ordersByUsersA[ordersByUsersA['orders'] > np.percentile(ordersByUsers['orders'], [95, 99])[0]]['visitorId'],\n",
    "        ordersByUsersB[ordersByUsersB['orders'] > np.percentile(ordersByUsers['orders'], [95, 99])[0]]['visitorId'],\n",
    "    ],\n",
    "    axis=0,\n",
    ")\n",
    "\n",
    "usersWithExpensiveOrders = orders[orders['revenue'] > np.percentile(orders['revenue'], [95, 99])[0]]['visitorId']\n",
    "\n",
    "abnormalUsers = (\n",
    "    pd.concat([usersWithManyOrders, usersWithExpensiveOrders], axis=0)\n",
    "    .drop_duplicates()\n",
    "    .sort_values()\n",
    ")\n",
    "print(abnormalUsers.head(5))\n",
    "print(abnormalUsers.shape[0]) "
   ]
  },
  {
   "cell_type": "code",
   "execution_count": 30,
   "metadata": {},
   "outputs": [],
   "source": [
    "# отфильтруем данные\n",
    "\n",
    "sampleAFiltered = pd.concat(\n",
    "    [\n",
    "        ordersByUsersA[\n",
    "            np.logical_not(ordersByUsersA['visitorId'].isin(abnormalUsers))\n",
    "        ]['orders'],\n",
    "        pd.Series(\n",
    "            0,\n",
    "            index=np.arange(\n",
    "                data['visitorsPerDateA'].sum() - len(ordersByUsersA['orders'])\n",
    "            ),\n",
    "            name='orders',\n",
    "        ),\n",
    "    ],\n",
    "    axis=0,\n",
    ")\n",
    "\n",
    "sampleBFiltered = pd.concat(\n",
    "    [\n",
    "        ordersByUsersB[\n",
    "            np.logical_not(ordersByUsersB['visitorId'].isin(abnormalUsers))\n",
    "        ]['orders'],\n",
    "        pd.Series(\n",
    "            0,\n",
    "            index=np.arange(\n",
    "                data['visitorsPerDateB'].sum() - len(ordersByUsersB['orders'])\n",
    "            ),\n",
    "            name='orders',\n",
    "        ),\n",
    "    ],\n",
    "    axis=0,\n",
    ") "
   ]
  },
  {
   "cell_type": "code",
   "execution_count": 31,
   "metadata": {},
   "outputs": [
    {
     "name": "stdout",
     "output_type": "stream",
     "text": [
      "p-value: 0.0130\n",
      "Относительные различия в среднем чеке между группами: 0.1727\n"
     ]
    }
   ],
   "source": [
    "# применим статистический критерий Манна-Уитни к полученным выборкам\n",
    "print(\"p-value:\", '{0:.4f}'.format(stats.mannwhitneyu(sampleAFiltered, sampleBFiltered)[1]))\n",
    "print('Относительные различия в среднем чеке между группами:', '{0:.4f}'.format(sampleBFiltered.mean()/sampleAFiltered.mean()-1)) "
   ]
  },
  {
   "cell_type": "markdown",
   "metadata": {},
   "source": [
    "<div class=\"alert alert-info\">\n",
    "<p> Как и в случае с сырыми данными, нулевую гипотезу отвергаем. А вот результаты по относительному различию изменились: группа В оказалась лучше по среднему количеству заказов на посетителя на 17,3%, до \"очистки\" данных - 13,81%"
   ]
  },
  {
   "cell_type": "markdown",
   "metadata": {},
   "source": [
    "### Расчет статистической значимости различий в среднем чеке заказа между группами по «очищенным» данным"
   ]
  },
  {
   "cell_type": "markdown",
   "metadata": {},
   "source": [
    "Сформулируем гипотезы: \n",
    "* **нулевая**: различий в среднем чеке «очищенным» данным между группами нет; \n",
    "* **альтернативная:** различия в среднем между группами есть."
   ]
  },
  {
   "cell_type": "code",
   "execution_count": 32,
   "metadata": {},
   "outputs": [
    {
     "name": "stdout",
     "output_type": "stream",
     "text": [
      "p-value: 0.7385\n",
      "Относительные различия в среднем чеке между группами: -0.0196\n"
     ]
    }
   ],
   "source": [
    "print(\"p-value:\", \n",
    "    '{0:.4f}'.format(\n",
    "        stats.mannwhitneyu(\n",
    "            orders[\n",
    "                np.logical_and(\n",
    "                    orders['group'] == 'A',\n",
    "                    np.logical_not(orders['visitorId'].isin(abnormalUsers)),\n",
    "                )\n",
    "            ]['revenue'],\n",
    "            orders[\n",
    "                np.logical_and(\n",
    "                    orders['group'] == 'B',\n",
    "                    np.logical_not(orders['visitorId'].isin(abnormalUsers)),\n",
    "                )\n",
    "            ]['revenue'],\n",
    "        )[1]\n",
    "    )\n",
    ")\n",
    "\n",
    "print('Относительные различия в среднем чеке между группами:',\n",
    "    \"{0:.4f}\".format(\n",
    "        orders[\n",
    "            np.logical_and(\n",
    "                orders['group'] == 'B',\n",
    "                np.logical_not(orders['visitorId'].isin(abnormalUsers)),\n",
    "            )\n",
    "        ]['revenue'].mean()\n",
    "        / orders[\n",
    "            np.logical_and(\n",
    "                orders['group'] == 'A',\n",
    "                np.logical_not(orders['visitorId'].isin(abnormalUsers)),\n",
    "            )\n",
    "        ]['revenue'].mean()\n",
    "        - 1\n",
    "    )\n",
    ") "
   ]
  },
  {
   "cell_type": "markdown",
   "metadata": {},
   "source": [
    "<div class=\"alert alert-info\">\n",
    "<p> P-value, рассчитанный по очищенным данным, изменился незначительно и нулевую гипотезу отвергнуть мы не можем. Как и предполагалось ранее, резкий всплеск увеличения среднего чека в группе В связан с аномальными заказами, после удаления которых средний чек у сегмента В снизился настолько, что сегмент А стал превосходить В на 2%."
   ]
  },
  {
   "cell_type": "markdown",
   "metadata": {},
   "source": [
    "### Выводы \n"
   ]
  },
  {
   "cell_type": "markdown",
   "metadata": {},
   "source": [
    "<div class=\"alert alert-info\">\n",
    "<p> По итогам теста статистически значимых различий в среднем количестве заказов на посетителя ни по сырым, ни по очищенным данным не было выявлено, а пользователи из группы В, как правило, совершают больше заказов, чем люди из группы А.\n",
    "<p> А вот при расчете статистической значимости различий в среднем чеке между группами по «очищенным» данным и «сырым» данным наблюдаются изменения. Средний чек группы В превышал данный показатель для группы А, но после удаления выборсов, он стал меньше. Тем не менее, гипотеза об отсутствии статистически значимых различий между средними чеками групп А и В подтверждаем.\n",
    "<p> Среднее количество заказов на покупателя значительно выше у группы В, в то время как средний чек между группами различается незначительно. Поэтому было принято решение остановить тест и признать победу за группой В."
   ]
  },
  {
   "cell_type": "markdown",
   "metadata": {},
   "source": [
    "# Выводы"
   ]
  },
  {
   "cell_type": "markdown",
   "metadata": {},
   "source": [
    "<div class=\"alert alert-info\">\n",
    "<p> Данный проект концептуально был поделен на 2 части. В первом приоритезировались гипотезы с помощью фреймворков ICE и RICE. В результате были выбраны три наиболее перспективные гипотезы:\n",
    "<p> Добавить два новых канала привлечения трафика, что позволит привлекать на 30% больше пользователей.\n",
    "<p> Добавить форму подписки на все основные страницы, чтобы собрать базу клиентов для email-рассылок.\n",
    "<p> Показать на главной странице баннеры с актуальными акциями и распродажами, чтобы увеличить конверсию/\n",
    "<p> На втором этапе был проведен анализ A/B-теста. На шаге знакомства с данными были выявлены некоторые проблемы, а именно неравномерность в распределении пользователей по группам. Тем не менее, было принято решение работать с имеющимися данными без изменений. Были изучены такие показатели, как средний чек и среднее количество заказов на пользователя. В результате тест был остановлен и признана победа группы В."
   ]
  }
 ],
 "metadata": {
  "ExecuteTimeLog": [
   {
    "duration": 1321,
    "start_time": "2023-01-10T16:14:29.026Z"
   },
   {
    "duration": 100,
    "start_time": "2023-01-10T16:14:41.438Z"
   },
   {
    "duration": 73,
    "start_time": "2023-01-10T16:14:50.333Z"
   },
   {
    "duration": 4,
    "start_time": "2023-01-10T16:20:18.212Z"
   },
   {
    "duration": 38,
    "start_time": "2023-01-10T16:20:55.192Z"
   },
   {
    "duration": 4,
    "start_time": "2023-01-10T16:22:32.021Z"
   },
   {
    "duration": 4,
    "start_time": "2023-01-10T16:22:46.418Z"
   },
   {
    "duration": 4,
    "start_time": "2023-01-10T16:23:26.364Z"
   },
   {
    "duration": 21,
    "start_time": "2023-01-10T16:23:28.508Z"
   },
   {
    "duration": 4,
    "start_time": "2023-01-10T16:23:36.673Z"
   },
   {
    "duration": 46,
    "start_time": "2023-01-10T16:23:42.061Z"
   },
   {
    "duration": 1163,
    "start_time": "2023-01-10T17:29:34.710Z"
   },
   {
    "duration": 4,
    "start_time": "2023-01-10T17:29:35.875Z"
   },
   {
    "duration": 61,
    "start_time": "2023-01-10T17:29:35.881Z"
   },
   {
    "duration": 56,
    "start_time": "2023-01-10T17:29:35.944Z"
   },
   {
    "duration": 10,
    "start_time": "2023-01-10T17:29:36.012Z"
   },
   {
    "duration": 8,
    "start_time": "2023-01-10T17:31:41.344Z"
   },
   {
    "duration": 8,
    "start_time": "2023-01-10T17:46:26.204Z"
   },
   {
    "duration": 141,
    "start_time": "2023-01-10T17:46:43.544Z"
   },
   {
    "duration": 15,
    "start_time": "2023-01-10T17:47:00.061Z"
   },
   {
    "duration": 8,
    "start_time": "2023-01-10T17:47:24.020Z"
   },
   {
    "duration": 11,
    "start_time": "2023-01-10T17:47:57.418Z"
   },
   {
    "duration": 18,
    "start_time": "2023-01-10T17:49:19.460Z"
   },
   {
    "duration": 11,
    "start_time": "2023-01-10T17:49:35.638Z"
   },
   {
    "duration": 1314,
    "start_time": "2023-01-11T14:42:58.323Z"
   },
   {
    "duration": 4,
    "start_time": "2023-01-11T14:42:59.639Z"
   },
   {
    "duration": 88,
    "start_time": "2023-01-11T14:42:59.645Z"
   },
   {
    "duration": 50,
    "start_time": "2023-01-11T14:42:59.734Z"
   },
   {
    "duration": 8,
    "start_time": "2023-01-11T14:42:59.786Z"
   },
   {
    "duration": 15,
    "start_time": "2023-01-11T14:42:59.821Z"
   },
   {
    "duration": 11,
    "start_time": "2023-01-11T14:42:59.838Z"
   },
   {
    "duration": 162,
    "start_time": "2023-01-11T14:42:59.852Z"
   },
   {
    "duration": 43,
    "start_time": "2023-01-11T14:43:29.604Z"
   },
   {
    "duration": 40,
    "start_time": "2023-01-11T14:44:25.878Z"
   },
   {
    "duration": 12,
    "start_time": "2023-01-11T14:49:13.424Z"
   },
   {
    "duration": 50,
    "start_time": "2023-01-11T14:49:18.876Z"
   },
   {
    "duration": 4,
    "start_time": "2023-01-11T14:52:15.405Z"
   },
   {
    "duration": 6,
    "start_time": "2023-01-11T14:58:26.759Z"
   },
   {
    "duration": 13,
    "start_time": "2023-01-11T15:12:41.736Z"
   },
   {
    "duration": 112,
    "start_time": "2023-01-11T15:16:21.052Z"
   },
   {
    "duration": 93,
    "start_time": "2023-01-11T15:18:14.016Z"
   },
   {
    "duration": 6,
    "start_time": "2023-01-11T15:18:25.353Z"
   },
   {
    "duration": 78,
    "start_time": "2023-01-11T15:18:39.132Z"
   },
   {
    "duration": 27,
    "start_time": "2023-01-11T15:18:54.814Z"
   },
   {
    "duration": 94,
    "start_time": "2023-01-11T15:20:14.972Z"
   },
   {
    "duration": 29,
    "start_time": "2023-01-11T15:21:14.114Z"
   },
   {
    "duration": 81,
    "start_time": "2023-01-11T15:22:35.308Z"
   },
   {
    "duration": 25,
    "start_time": "2023-01-11T15:23:46.822Z"
   },
   {
    "duration": 171,
    "start_time": "2023-01-11T15:24:50.540Z"
   },
   {
    "duration": 292,
    "start_time": "2023-01-11T15:26:22.155Z"
   },
   {
    "duration": 291,
    "start_time": "2023-01-11T15:27:07.480Z"
   },
   {
    "duration": 539,
    "start_time": "2023-01-11T15:28:11.231Z"
   },
   {
    "duration": 455,
    "start_time": "2023-01-11T15:28:17.770Z"
   },
   {
    "duration": 488,
    "start_time": "2023-01-11T15:28:24.253Z"
   },
   {
    "duration": 488,
    "start_time": "2023-01-11T15:29:14.936Z"
   },
   {
    "duration": 5,
    "start_time": "2023-01-11T15:31:13.535Z"
   },
   {
    "duration": 572,
    "start_time": "2023-01-11T15:31:24.946Z"
   },
   {
    "duration": 655,
    "start_time": "2023-01-11T15:31:44.163Z"
   },
   {
    "duration": 725,
    "start_time": "2023-01-11T15:33:33.568Z"
   },
   {
    "duration": 314,
    "start_time": "2023-01-11T15:35:07.381Z"
   },
   {
    "duration": 507,
    "start_time": "2023-01-11T15:37:31.403Z"
   },
   {
    "duration": 494,
    "start_time": "2023-01-11T15:38:37.279Z"
   },
   {
    "duration": 564,
    "start_time": "2023-01-11T15:39:33.015Z"
   },
   {
    "duration": 510,
    "start_time": "2023-01-11T15:39:49.494Z"
   },
   {
    "duration": 109,
    "start_time": "2023-01-11T15:39:58.543Z"
   },
   {
    "duration": 512,
    "start_time": "2023-01-11T15:40:03.369Z"
   },
   {
    "duration": 213,
    "start_time": "2023-01-11T16:53:04.276Z"
   },
   {
    "duration": 312,
    "start_time": "2023-01-11T16:53:19.191Z"
   },
   {
    "duration": 214,
    "start_time": "2023-01-11T16:57:02.714Z"
   },
   {
    "duration": 348,
    "start_time": "2023-01-11T16:59:11.494Z"
   },
   {
    "duration": 329,
    "start_time": "2023-01-11T16:59:28.599Z"
   },
   {
    "duration": 287,
    "start_time": "2023-01-11T16:59:38.738Z"
   },
   {
    "duration": 496,
    "start_time": "2023-01-11T17:01:06.776Z"
   },
   {
    "duration": 232,
    "start_time": "2023-01-11T17:01:22.821Z"
   },
   {
    "duration": 287,
    "start_time": "2023-01-11T17:02:16.061Z"
   },
   {
    "duration": 84,
    "start_time": "2023-01-11T17:02:37.072Z"
   },
   {
    "duration": 625,
    "start_time": "2023-01-11T17:35:54.018Z"
   },
   {
    "duration": 267,
    "start_time": "2023-01-11T17:36:10.224Z"
   },
   {
    "duration": 309,
    "start_time": "2023-01-11T17:56:23.452Z"
   },
   {
    "duration": 10,
    "start_time": "2023-01-11T18:08:05.280Z"
   },
   {
    "duration": 6,
    "start_time": "2023-01-11T18:08:51.750Z"
   },
   {
    "duration": 10,
    "start_time": "2023-01-11T18:08:55.184Z"
   },
   {
    "duration": 17,
    "start_time": "2023-01-11T18:11:13.941Z"
   },
   {
    "duration": 11,
    "start_time": "2023-01-11T18:11:19.366Z"
   },
   {
    "duration": 6,
    "start_time": "2023-01-11T18:11:30.542Z"
   },
   {
    "duration": 9,
    "start_time": "2023-01-11T18:15:55.534Z"
   },
   {
    "duration": 15,
    "start_time": "2023-01-11T18:23:41.969Z"
   },
   {
    "duration": 14,
    "start_time": "2023-01-11T18:24:00.379Z"
   },
   {
    "duration": 68,
    "start_time": "2023-01-11T18:25:37.027Z"
   },
   {
    "duration": 9,
    "start_time": "2023-01-11T18:25:42.544Z"
   },
   {
    "duration": 10,
    "start_time": "2023-01-11T18:29:30.495Z"
   },
   {
    "duration": 13,
    "start_time": "2023-01-11T18:30:11.550Z"
   },
   {
    "duration": 11,
    "start_time": "2023-01-11T18:30:14.696Z"
   },
   {
    "duration": 13,
    "start_time": "2023-01-11T18:31:44.076Z"
   },
   {
    "duration": 12,
    "start_time": "2023-01-11T18:32:56.481Z"
   },
   {
    "duration": 6,
    "start_time": "2023-01-11T18:33:08.354Z"
   },
   {
    "duration": 11,
    "start_time": "2023-01-11T18:33:16.583Z"
   },
   {
    "duration": 7,
    "start_time": "2023-01-11T18:33:37.293Z"
   },
   {
    "duration": 12,
    "start_time": "2023-01-11T18:33:48.553Z"
   },
   {
    "duration": 10,
    "start_time": "2023-01-11T18:34:17.420Z"
   },
   {
    "duration": 154,
    "start_time": "2023-01-11T18:40:14.740Z"
   },
   {
    "duration": 9,
    "start_time": "2023-01-11T18:40:21.494Z"
   },
   {
    "duration": 13,
    "start_time": "2023-01-11T18:40:35.699Z"
   },
   {
    "duration": 4,
    "start_time": "2023-01-11T18:40:46.875Z"
   },
   {
    "duration": 11,
    "start_time": "2023-01-11T18:41:00.033Z"
   },
   {
    "duration": 12,
    "start_time": "2023-01-11T18:42:59.050Z"
   },
   {
    "duration": 1162,
    "start_time": "2023-01-11T18:43:22.724Z"
   },
   {
    "duration": 4,
    "start_time": "2023-01-11T18:43:23.888Z"
   },
   {
    "duration": 35,
    "start_time": "2023-01-11T18:43:23.893Z"
   },
   {
    "duration": 50,
    "start_time": "2023-01-11T18:43:23.930Z"
   },
   {
    "duration": 8,
    "start_time": "2023-01-11T18:43:23.981Z"
   },
   {
    "duration": 44,
    "start_time": "2023-01-11T18:43:23.991Z"
   },
   {
    "duration": 17,
    "start_time": "2023-01-11T18:43:24.037Z"
   },
   {
    "duration": 69,
    "start_time": "2023-01-11T18:43:24.055Z"
   },
   {
    "duration": 61,
    "start_time": "2023-01-11T18:43:24.127Z"
   },
   {
    "duration": 15,
    "start_time": "2023-01-11T18:43:24.224Z"
   },
   {
    "duration": 80,
    "start_time": "2023-01-11T18:43:24.241Z"
   },
   {
    "duration": 4,
    "start_time": "2023-01-11T18:43:24.324Z"
   },
   {
    "duration": 20,
    "start_time": "2023-01-11T18:43:24.330Z"
   },
   {
    "duration": 20,
    "start_time": "2023-01-11T18:43:24.352Z"
   },
   {
    "duration": 10,
    "start_time": "2023-01-11T18:43:24.373Z"
   },
   {
    "duration": 6,
    "start_time": "2023-01-11T18:43:24.385Z"
   },
   {
    "duration": 593,
    "start_time": "2023-01-11T18:43:24.393Z"
   },
   {
    "duration": 234,
    "start_time": "2023-01-11T18:43:24.988Z"
   },
   {
    "duration": 322,
    "start_time": "2023-01-11T18:43:25.224Z"
   },
   {
    "duration": 97,
    "start_time": "2023-01-11T18:44:21.092Z"
   },
   {
    "duration": 15,
    "start_time": "2023-01-11T18:44:48.147Z"
   },
   {
    "duration": 12,
    "start_time": "2023-01-11T18:44:58.451Z"
   },
   {
    "duration": 74,
    "start_time": "2023-01-11T18:46:30.365Z"
   },
   {
    "duration": 10,
    "start_time": "2023-01-11T18:47:23.337Z"
   },
   {
    "duration": 12,
    "start_time": "2023-01-11T18:47:47.896Z"
   },
   {
    "duration": 9,
    "start_time": "2023-01-11T18:48:25.595Z"
   },
   {
    "duration": 8,
    "start_time": "2023-01-11T18:48:50.398Z"
   },
   {
    "duration": 8,
    "start_time": "2023-01-11T18:49:00.345Z"
   },
   {
    "duration": 9,
    "start_time": "2023-01-11T18:49:04.236Z"
   },
   {
    "duration": 1249,
    "start_time": "2023-01-11T18:49:12.414Z"
   },
   {
    "duration": 4,
    "start_time": "2023-01-11T18:49:13.665Z"
   },
   {
    "duration": 37,
    "start_time": "2023-01-11T18:49:13.673Z"
   },
   {
    "duration": 57,
    "start_time": "2023-01-11T18:49:13.711Z"
   },
   {
    "duration": 9,
    "start_time": "2023-01-11T18:49:13.772Z"
   },
   {
    "duration": 41,
    "start_time": "2023-01-11T18:49:13.783Z"
   },
   {
    "duration": 51,
    "start_time": "2023-01-11T18:49:13.826Z"
   },
   {
    "duration": 91,
    "start_time": "2023-01-11T18:49:13.879Z"
   },
   {
    "duration": 52,
    "start_time": "2023-01-11T18:49:13.972Z"
   },
   {
    "duration": 17,
    "start_time": "2023-01-11T18:49:14.026Z"
   },
   {
    "duration": 83,
    "start_time": "2023-01-11T18:49:14.046Z"
   },
   {
    "duration": 5,
    "start_time": "2023-01-11T18:49:14.132Z"
   },
   {
    "duration": 34,
    "start_time": "2023-01-11T18:49:14.139Z"
   },
   {
    "duration": 31,
    "start_time": "2023-01-11T18:49:14.176Z"
   },
   {
    "duration": 42,
    "start_time": "2023-01-11T18:49:14.210Z"
   },
   {
    "duration": 42,
    "start_time": "2023-01-11T18:49:14.254Z"
   },
   {
    "duration": 487,
    "start_time": "2023-01-11T18:49:14.300Z"
   },
   {
    "duration": 241,
    "start_time": "2023-01-11T18:49:14.789Z"
   },
   {
    "duration": 271,
    "start_time": "2023-01-11T18:49:15.031Z"
   },
   {
    "duration": 17,
    "start_time": "2023-01-11T18:50:25.551Z"
   },
   {
    "duration": 1138,
    "start_time": "2023-01-11T18:50:31.785Z"
   },
   {
    "duration": 4,
    "start_time": "2023-01-11T18:50:32.925Z"
   },
   {
    "duration": 37,
    "start_time": "2023-01-11T18:50:32.931Z"
   },
   {
    "duration": 48,
    "start_time": "2023-01-11T18:50:32.969Z"
   },
   {
    "duration": 8,
    "start_time": "2023-01-11T18:50:33.019Z"
   },
   {
    "duration": 12,
    "start_time": "2023-01-11T18:50:33.028Z"
   },
   {
    "duration": 11,
    "start_time": "2023-01-11T18:50:33.042Z"
   },
   {
    "duration": 56,
    "start_time": "2023-01-11T18:50:33.055Z"
   },
   {
    "duration": 48,
    "start_time": "2023-01-11T18:50:33.112Z"
   },
   {
    "duration": 12,
    "start_time": "2023-01-11T18:50:33.162Z"
   },
   {
    "duration": 64,
    "start_time": "2023-01-11T18:50:33.175Z"
   },
   {
    "duration": 4,
    "start_time": "2023-01-11T18:50:33.240Z"
   },
   {
    "duration": 14,
    "start_time": "2023-01-11T18:50:33.246Z"
   },
   {
    "duration": 10,
    "start_time": "2023-01-11T18:50:33.262Z"
   },
   {
    "duration": 49,
    "start_time": "2023-01-11T18:50:33.273Z"
   },
   {
    "duration": 7,
    "start_time": "2023-01-11T18:50:33.324Z"
   },
   {
    "duration": 3003,
    "start_time": "2023-01-11T18:50:33.333Z"
   },
   {
    "duration": 182,
    "start_time": "2023-01-11T18:50:36.338Z"
   },
   {
    "duration": 293,
    "start_time": "2023-01-11T18:50:36.522Z"
   },
   {
    "duration": 1133,
    "start_time": "2023-01-11T18:51:59.269Z"
   },
   {
    "duration": 4,
    "start_time": "2023-01-11T18:52:00.404Z"
   },
   {
    "duration": 48,
    "start_time": "2023-01-11T18:52:00.410Z"
   },
   {
    "duration": 49,
    "start_time": "2023-01-11T18:52:00.459Z"
   },
   {
    "duration": 11,
    "start_time": "2023-01-11T18:52:00.510Z"
   },
   {
    "duration": 18,
    "start_time": "2023-01-11T18:52:00.523Z"
   },
   {
    "duration": 17,
    "start_time": "2023-01-11T18:52:00.542Z"
   },
   {
    "duration": 59,
    "start_time": "2023-01-11T18:52:00.560Z"
   },
   {
    "duration": 46,
    "start_time": "2023-01-11T18:52:00.621Z"
   },
   {
    "duration": 11,
    "start_time": "2023-01-11T18:52:00.669Z"
   },
   {
    "duration": 68,
    "start_time": "2023-01-11T18:52:00.681Z"
   },
   {
    "duration": 4,
    "start_time": "2023-01-11T18:52:00.750Z"
   },
   {
    "duration": 18,
    "start_time": "2023-01-11T18:52:00.756Z"
   },
   {
    "duration": 21,
    "start_time": "2023-01-11T18:52:00.776Z"
   },
   {
    "duration": 30,
    "start_time": "2023-01-11T18:52:00.799Z"
   },
   {
    "duration": 5,
    "start_time": "2023-01-11T18:52:00.831Z"
   },
   {
    "duration": 580,
    "start_time": "2023-01-11T18:52:00.837Z"
   },
   {
    "duration": 215,
    "start_time": "2023-01-11T18:52:01.422Z"
   },
   {
    "duration": 325,
    "start_time": "2023-01-11T18:52:01.639Z"
   },
   {
    "duration": 44,
    "start_time": "2023-01-11T18:53:18.462Z"
   },
   {
    "duration": 9,
    "start_time": "2023-01-11T18:54:29.747Z"
   },
   {
    "duration": 54,
    "start_time": "2023-01-11T18:54:49.950Z"
   },
   {
    "duration": 1303,
    "start_time": "2023-01-11T18:55:03.471Z"
   },
   {
    "duration": 5,
    "start_time": "2023-01-11T18:55:04.776Z"
   },
   {
    "duration": 80,
    "start_time": "2023-01-11T18:55:04.783Z"
   },
   {
    "duration": 66,
    "start_time": "2023-01-11T18:55:04.865Z"
   },
   {
    "duration": 11,
    "start_time": "2023-01-11T18:55:04.933Z"
   },
   {
    "duration": 58,
    "start_time": "2023-01-11T18:55:04.946Z"
   },
   {
    "duration": 44,
    "start_time": "2023-01-11T18:55:05.006Z"
   },
   {
    "duration": 77,
    "start_time": "2023-01-11T18:55:05.052Z"
   },
   {
    "duration": 64,
    "start_time": "2023-01-11T18:55:05.131Z"
   },
   {
    "duration": 34,
    "start_time": "2023-01-11T18:55:05.199Z"
   },
   {
    "duration": 68,
    "start_time": "2023-01-11T18:55:05.235Z"
   },
   {
    "duration": 4,
    "start_time": "2023-01-11T18:55:05.305Z"
   },
   {
    "duration": 23,
    "start_time": "2023-01-11T18:55:05.311Z"
   },
   {
    "duration": 38,
    "start_time": "2023-01-11T18:55:05.336Z"
   },
   {
    "duration": 37,
    "start_time": "2023-01-11T18:55:05.376Z"
   },
   {
    "duration": 33,
    "start_time": "2023-01-11T18:55:05.416Z"
   },
   {
    "duration": 614,
    "start_time": "2023-01-11T18:55:05.452Z"
   },
   {
    "duration": 237,
    "start_time": "2023-01-11T18:55:06.068Z"
   },
   {
    "duration": 326,
    "start_time": "2023-01-11T18:55:06.307Z"
   },
   {
    "duration": 13,
    "start_time": "2023-01-11T18:55:23.630Z"
   },
   {
    "duration": 12,
    "start_time": "2023-01-11T18:56:09.099Z"
   },
   {
    "duration": 69,
    "start_time": "2023-01-11T18:57:07.329Z"
   },
   {
    "duration": 8,
    "start_time": "2023-01-11T18:57:10.009Z"
   },
   {
    "duration": 1252,
    "start_time": "2023-01-11T18:57:15.645Z"
   },
   {
    "duration": 1166,
    "start_time": "2023-01-11T18:57:22.128Z"
   },
   {
    "duration": 7,
    "start_time": "2023-01-11T18:57:40.316Z"
   },
   {
    "duration": 9,
    "start_time": "2023-01-11T18:57:48.794Z"
   },
   {
    "duration": 12,
    "start_time": "2023-01-11T18:57:51.666Z"
   },
   {
    "duration": 14,
    "start_time": "2023-01-11T18:57:59.602Z"
   },
   {
    "duration": 11,
    "start_time": "2023-01-11T18:58:06.297Z"
   },
   {
    "duration": 10,
    "start_time": "2023-01-11T18:58:08.509Z"
   },
   {
    "duration": 12,
    "start_time": "2023-01-11T18:58:11.008Z"
   },
   {
    "duration": 13,
    "start_time": "2023-01-11T18:58:31.602Z"
   },
   {
    "duration": 9,
    "start_time": "2023-01-11T18:58:55.921Z"
   },
   {
    "duration": 1110,
    "start_time": "2023-01-11T18:59:00.878Z"
   },
   {
    "duration": 1106,
    "start_time": "2023-01-11T18:59:14.929Z"
   },
   {
    "duration": 20,
    "start_time": "2023-01-11T19:00:14.625Z"
   },
   {
    "duration": 17,
    "start_time": "2023-01-11T19:00:59.363Z"
   },
   {
    "duration": 23,
    "start_time": "2023-01-11T19:01:18.560Z"
   },
   {
    "duration": 1389,
    "start_time": "2023-01-11T19:01:24.287Z"
   },
   {
    "duration": 5,
    "start_time": "2023-01-11T19:01:25.678Z"
   },
   {
    "duration": 169,
    "start_time": "2023-01-11T19:01:25.684Z"
   },
   {
    "duration": 153,
    "start_time": "2023-01-11T19:01:25.855Z"
   },
   {
    "duration": 62,
    "start_time": "2023-01-11T19:01:26.010Z"
   },
   {
    "duration": 81,
    "start_time": "2023-01-11T19:01:26.075Z"
   },
   {
    "duration": 54,
    "start_time": "2023-01-11T19:01:26.158Z"
   },
   {
    "duration": 156,
    "start_time": "2023-01-11T19:01:26.214Z"
   },
   {
    "duration": 64,
    "start_time": "2023-01-11T19:01:26.371Z"
   },
   {
    "duration": 13,
    "start_time": "2023-01-11T19:01:26.438Z"
   },
   {
    "duration": 71,
    "start_time": "2023-01-11T19:01:26.452Z"
   },
   {
    "duration": 5,
    "start_time": "2023-01-11T19:01:26.525Z"
   },
   {
    "duration": 23,
    "start_time": "2023-01-11T19:01:26.532Z"
   },
   {
    "duration": 123,
    "start_time": "2023-01-11T19:01:26.559Z"
   },
   {
    "duration": 0,
    "start_time": "2023-01-11T19:01:26.684Z"
   },
   {
    "duration": 0,
    "start_time": "2023-01-11T19:01:26.685Z"
   },
   {
    "duration": 0,
    "start_time": "2023-01-11T19:01:26.687Z"
   },
   {
    "duration": 0,
    "start_time": "2023-01-11T19:01:26.689Z"
   },
   {
    "duration": 0,
    "start_time": "2023-01-11T19:01:26.690Z"
   },
   {
    "duration": 13,
    "start_time": "2023-01-11T19:01:50.569Z"
   },
   {
    "duration": 1240,
    "start_time": "2023-01-11T19:02:07.033Z"
   },
   {
    "duration": 15,
    "start_time": "2023-01-11T19:02:41.548Z"
   },
   {
    "duration": 13,
    "start_time": "2023-01-11T19:02:47.995Z"
   },
   {
    "duration": 10,
    "start_time": "2023-01-11T19:04:34.309Z"
   },
   {
    "duration": 20,
    "start_time": "2023-01-11T19:04:41.050Z"
   },
   {
    "duration": 17,
    "start_time": "2023-01-11T19:04:51.046Z"
   },
   {
    "duration": 13,
    "start_time": "2023-01-11T19:05:07.099Z"
   },
   {
    "duration": 7,
    "start_time": "2023-01-11T19:05:12.850Z"
   },
   {
    "duration": 1223,
    "start_time": "2023-01-11T19:05:20.904Z"
   },
   {
    "duration": 4,
    "start_time": "2023-01-11T19:05:22.129Z"
   },
   {
    "duration": 34,
    "start_time": "2023-01-11T19:05:22.134Z"
   },
   {
    "duration": 54,
    "start_time": "2023-01-11T19:05:22.170Z"
   },
   {
    "duration": 8,
    "start_time": "2023-01-11T19:05:22.227Z"
   },
   {
    "duration": 18,
    "start_time": "2023-01-11T19:05:22.236Z"
   },
   {
    "duration": 18,
    "start_time": "2023-01-11T19:05:22.256Z"
   },
   {
    "duration": 58,
    "start_time": "2023-01-11T19:05:22.276Z"
   },
   {
    "duration": 44,
    "start_time": "2023-01-11T19:05:22.336Z"
   },
   {
    "duration": 11,
    "start_time": "2023-01-11T19:05:22.382Z"
   },
   {
    "duration": 60,
    "start_time": "2023-01-11T19:05:22.395Z"
   },
   {
    "duration": 5,
    "start_time": "2023-01-11T19:05:22.456Z"
   },
   {
    "duration": 15,
    "start_time": "2023-01-11T19:05:22.462Z"
   },
   {
    "duration": 7,
    "start_time": "2023-01-11T19:05:22.481Z"
   },
   {
    "duration": 134,
    "start_time": "2023-01-11T19:05:22.489Z"
   },
   {
    "duration": 0,
    "start_time": "2023-01-11T19:05:22.624Z"
   },
   {
    "duration": 0,
    "start_time": "2023-01-11T19:05:22.626Z"
   },
   {
    "duration": 0,
    "start_time": "2023-01-11T19:05:22.627Z"
   },
   {
    "duration": 0,
    "start_time": "2023-01-11T19:05:22.628Z"
   },
   {
    "duration": 6,
    "start_time": "2023-01-11T19:05:56.795Z"
   },
   {
    "duration": 6,
    "start_time": "2023-01-11T19:05:59.898Z"
   },
   {
    "duration": 7,
    "start_time": "2023-01-11T19:06:16.062Z"
   },
   {
    "duration": 1088,
    "start_time": "2023-01-11T19:06:28.468Z"
   },
   {
    "duration": 4,
    "start_time": "2023-01-11T19:06:29.558Z"
   },
   {
    "duration": 33,
    "start_time": "2023-01-11T19:06:29.564Z"
   },
   {
    "duration": 53,
    "start_time": "2023-01-11T19:06:29.599Z"
   },
   {
    "duration": 8,
    "start_time": "2023-01-11T19:06:29.654Z"
   },
   {
    "duration": 17,
    "start_time": "2023-01-11T19:06:29.663Z"
   },
   {
    "duration": 41,
    "start_time": "2023-01-11T19:06:29.682Z"
   },
   {
    "duration": 55,
    "start_time": "2023-01-11T19:06:29.726Z"
   },
   {
    "duration": 53,
    "start_time": "2023-01-11T19:06:29.783Z"
   },
   {
    "duration": 14,
    "start_time": "2023-01-11T19:06:29.839Z"
   },
   {
    "duration": 79,
    "start_time": "2023-01-11T19:06:29.856Z"
   },
   {
    "duration": 5,
    "start_time": "2023-01-11T19:06:29.937Z"
   },
   {
    "duration": 19,
    "start_time": "2023-01-11T19:06:29.944Z"
   },
   {
    "duration": 10,
    "start_time": "2023-01-11T19:06:29.965Z"
   },
   {
    "duration": 10,
    "start_time": "2023-01-11T19:06:29.977Z"
   },
   {
    "duration": 9,
    "start_time": "2023-01-11T19:06:29.989Z"
   },
   {
    "duration": 587,
    "start_time": "2023-01-11T19:06:30.000Z"
   },
   {
    "duration": 229,
    "start_time": "2023-01-11T19:06:30.589Z"
   },
   {
    "duration": 349,
    "start_time": "2023-01-11T19:06:30.823Z"
   },
   {
    "duration": 97,
    "start_time": "2023-01-11T19:06:43.476Z"
   },
   {
    "duration": 1194,
    "start_time": "2023-01-11T19:07:04.600Z"
   },
   {
    "duration": 5,
    "start_time": "2023-01-11T19:07:05.796Z"
   },
   {
    "duration": 83,
    "start_time": "2023-01-11T19:07:05.803Z"
   },
   {
    "duration": 74,
    "start_time": "2023-01-11T19:07:05.890Z"
   },
   {
    "duration": 9,
    "start_time": "2023-01-11T19:07:05.966Z"
   },
   {
    "duration": 45,
    "start_time": "2023-01-11T19:07:05.977Z"
   },
   {
    "duration": 12,
    "start_time": "2023-01-11T19:07:06.024Z"
   },
   {
    "duration": 80,
    "start_time": "2023-01-11T19:07:06.037Z"
   },
   {
    "duration": 51,
    "start_time": "2023-01-11T19:07:06.119Z"
   },
   {
    "duration": 16,
    "start_time": "2023-01-11T19:07:06.173Z"
   },
   {
    "duration": 74,
    "start_time": "2023-01-11T19:07:06.191Z"
   },
   {
    "duration": 4,
    "start_time": "2023-01-11T19:07:06.266Z"
   },
   {
    "duration": 28,
    "start_time": "2023-01-11T19:07:06.271Z"
   },
   {
    "duration": 36,
    "start_time": "2023-01-11T19:07:06.300Z"
   },
   {
    "duration": 39,
    "start_time": "2023-01-11T19:07:06.337Z"
   },
   {
    "duration": 64,
    "start_time": "2023-01-11T19:07:06.378Z"
   },
   {
    "duration": 583,
    "start_time": "2023-01-11T19:07:06.444Z"
   },
   {
    "duration": 220,
    "start_time": "2023-01-11T19:07:07.029Z"
   },
   {
    "duration": 287,
    "start_time": "2023-01-11T19:07:07.251Z"
   },
   {
    "duration": 100,
    "start_time": "2023-01-11T19:07:18.316Z"
   },
   {
    "duration": 9,
    "start_time": "2023-01-11T19:07:28.114Z"
   },
   {
    "duration": 10,
    "start_time": "2023-01-11T19:07:38.285Z"
   },
   {
    "duration": 1201,
    "start_time": "2023-01-11T19:07:45.613Z"
   },
   {
    "duration": 5,
    "start_time": "2023-01-11T19:07:46.817Z"
   },
   {
    "duration": 34,
    "start_time": "2023-01-11T19:07:46.824Z"
   },
   {
    "duration": 50,
    "start_time": "2023-01-11T19:07:46.860Z"
   },
   {
    "duration": 16,
    "start_time": "2023-01-11T19:07:46.913Z"
   },
   {
    "duration": 14,
    "start_time": "2023-01-11T19:07:46.931Z"
   },
   {
    "duration": 12,
    "start_time": "2023-01-11T19:07:46.947Z"
   },
   {
    "duration": 52,
    "start_time": "2023-01-11T19:07:46.961Z"
   },
   {
    "duration": 48,
    "start_time": "2023-01-11T19:07:47.015Z"
   },
   {
    "duration": 14,
    "start_time": "2023-01-11T19:07:47.064Z"
   },
   {
    "duration": 81,
    "start_time": "2023-01-11T19:07:47.080Z"
   },
   {
    "duration": 5,
    "start_time": "2023-01-11T19:07:47.163Z"
   },
   {
    "duration": 20,
    "start_time": "2023-01-11T19:07:47.170Z"
   },
   {
    "duration": 32,
    "start_time": "2023-01-11T19:07:47.193Z"
   },
   {
    "duration": 17,
    "start_time": "2023-01-11T19:07:47.227Z"
   },
   {
    "duration": 7,
    "start_time": "2023-01-11T19:07:47.245Z"
   },
   {
    "duration": 552,
    "start_time": "2023-01-11T19:07:47.254Z"
   },
   {
    "duration": 219,
    "start_time": "2023-01-11T19:07:47.808Z"
   },
   {
    "duration": 370,
    "start_time": "2023-01-11T19:07:48.028Z"
   },
   {
    "duration": 8,
    "start_time": "2023-01-11T19:08:01.296Z"
   },
   {
    "duration": 1196,
    "start_time": "2023-01-11T19:08:37.579Z"
   },
   {
    "duration": 1171,
    "start_time": "2023-01-11T19:09:13.958Z"
   },
   {
    "duration": 4,
    "start_time": "2023-01-11T19:09:15.131Z"
   },
   {
    "duration": 56,
    "start_time": "2023-01-11T19:09:15.137Z"
   },
   {
    "duration": 59,
    "start_time": "2023-01-11T19:09:15.195Z"
   },
   {
    "duration": 9,
    "start_time": "2023-01-11T19:09:15.256Z"
   },
   {
    "duration": 18,
    "start_time": "2023-01-11T19:09:15.267Z"
   },
   {
    "duration": 36,
    "start_time": "2023-01-11T19:09:15.287Z"
   },
   {
    "duration": 52,
    "start_time": "2023-01-11T19:09:15.325Z"
   },
   {
    "duration": 45,
    "start_time": "2023-01-11T19:09:15.379Z"
   },
   {
    "duration": 12,
    "start_time": "2023-01-11T19:09:15.427Z"
   },
   {
    "duration": 37,
    "start_time": "2023-01-11T19:09:15.441Z"
   },
   {
    "duration": 44,
    "start_time": "2023-01-11T19:09:15.480Z"
   },
   {
    "duration": 13,
    "start_time": "2023-01-11T19:09:15.526Z"
   },
   {
    "duration": 16,
    "start_time": "2023-01-11T19:09:15.541Z"
   },
   {
    "duration": 1213,
    "start_time": "2023-01-11T19:09:15.560Z"
   },
   {
    "duration": 0,
    "start_time": "2023-01-11T19:09:16.775Z"
   },
   {
    "duration": 0,
    "start_time": "2023-01-11T19:09:16.776Z"
   },
   {
    "duration": 0,
    "start_time": "2023-01-11T19:09:16.778Z"
   },
   {
    "duration": 0,
    "start_time": "2023-01-11T19:09:16.779Z"
   },
   {
    "duration": 1228,
    "start_time": "2023-01-11T19:10:34.453Z"
   },
   {
    "duration": 3,
    "start_time": "2023-01-11T19:10:35.683Z"
   },
   {
    "duration": 34,
    "start_time": "2023-01-11T19:10:35.688Z"
   },
   {
    "duration": 47,
    "start_time": "2023-01-11T19:10:35.724Z"
   },
   {
    "duration": 8,
    "start_time": "2023-01-11T19:10:35.772Z"
   },
   {
    "duration": 51,
    "start_time": "2023-01-11T19:10:35.781Z"
   },
   {
    "duration": 14,
    "start_time": "2023-01-11T19:10:35.834Z"
   },
   {
    "duration": 63,
    "start_time": "2023-01-11T19:10:35.850Z"
   },
   {
    "duration": 52,
    "start_time": "2023-01-11T19:10:35.916Z"
   },
   {
    "duration": 13,
    "start_time": "2023-01-11T19:10:35.971Z"
   },
   {
    "duration": 66,
    "start_time": "2023-01-11T19:10:35.985Z"
   },
   {
    "duration": 4,
    "start_time": "2023-01-11T19:10:36.052Z"
   },
   {
    "duration": 19,
    "start_time": "2023-01-11T19:10:36.057Z"
   },
   {
    "duration": 7,
    "start_time": "2023-01-11T19:10:36.077Z"
   },
   {
    "duration": 13,
    "start_time": "2023-01-11T19:10:36.086Z"
   },
   {
    "duration": 27,
    "start_time": "2023-01-11T19:10:36.100Z"
   },
   {
    "duration": 562,
    "start_time": "2023-01-11T19:10:36.129Z"
   },
   {
    "duration": 209,
    "start_time": "2023-01-11T19:10:36.693Z"
   },
   {
    "duration": 343,
    "start_time": "2023-01-11T19:10:36.903Z"
   },
   {
    "duration": 18,
    "start_time": "2023-01-11T19:11:04.315Z"
   },
   {
    "duration": 17,
    "start_time": "2023-01-11T19:11:11.345Z"
   },
   {
    "duration": 8,
    "start_time": "2023-01-11T19:12:18.851Z"
   },
   {
    "duration": 11,
    "start_time": "2023-01-11T19:12:21.937Z"
   },
   {
    "duration": 13,
    "start_time": "2023-01-11T19:12:27.067Z"
   },
   {
    "duration": 1182,
    "start_time": "2023-01-11T19:13:07.695Z"
   },
   {
    "duration": 4,
    "start_time": "2023-01-11T19:13:08.879Z"
   },
   {
    "duration": 53,
    "start_time": "2023-01-11T19:13:08.885Z"
   },
   {
    "duration": 50,
    "start_time": "2023-01-11T19:13:08.939Z"
   },
   {
    "duration": 8,
    "start_time": "2023-01-11T19:13:08.991Z"
   },
   {
    "duration": 40,
    "start_time": "2023-01-11T19:13:09.000Z"
   },
   {
    "duration": 12,
    "start_time": "2023-01-11T19:13:09.041Z"
   },
   {
    "duration": 76,
    "start_time": "2023-01-11T19:13:09.055Z"
   },
   {
    "duration": 58,
    "start_time": "2023-01-11T19:13:09.133Z"
   },
   {
    "duration": 34,
    "start_time": "2023-01-11T19:13:09.193Z"
   },
   {
    "duration": 66,
    "start_time": "2023-01-11T19:13:09.228Z"
   },
   {
    "duration": 6,
    "start_time": "2023-01-11T19:13:09.296Z"
   },
   {
    "duration": 22,
    "start_time": "2023-01-11T19:13:09.303Z"
   },
   {
    "duration": 23,
    "start_time": "2023-01-11T19:13:09.328Z"
   },
   {
    "duration": 14,
    "start_time": "2023-01-11T19:13:09.353Z"
   },
   {
    "duration": 11,
    "start_time": "2023-01-11T19:13:09.368Z"
   },
   {
    "duration": 549,
    "start_time": "2023-01-11T19:13:09.380Z"
   },
   {
    "duration": 218,
    "start_time": "2023-01-11T19:13:09.931Z"
   },
   {
    "duration": 280,
    "start_time": "2023-01-11T19:13:10.151Z"
   },
   {
    "duration": 6,
    "start_time": "2023-01-11T19:13:47.413Z"
   },
   {
    "duration": 8,
    "start_time": "2023-01-11T19:13:50.225Z"
   },
   {
    "duration": 10,
    "start_time": "2023-01-11T19:13:55.159Z"
   },
   {
    "duration": 1212,
    "start_time": "2023-01-11T19:14:05.018Z"
   },
   {
    "duration": 4,
    "start_time": "2023-01-11T19:14:06.232Z"
   },
   {
    "duration": 34,
    "start_time": "2023-01-11T19:14:06.238Z"
   },
   {
    "duration": 56,
    "start_time": "2023-01-11T19:14:06.274Z"
   },
   {
    "duration": 9,
    "start_time": "2023-01-11T19:14:06.331Z"
   },
   {
    "duration": 26,
    "start_time": "2023-01-11T19:14:06.342Z"
   },
   {
    "duration": 12,
    "start_time": "2023-01-11T19:14:06.370Z"
   },
   {
    "duration": 65,
    "start_time": "2023-01-11T19:14:06.384Z"
   },
   {
    "duration": 47,
    "start_time": "2023-01-11T19:14:06.451Z"
   },
   {
    "duration": 12,
    "start_time": "2023-01-11T19:14:06.500Z"
   },
   {
    "duration": 50,
    "start_time": "2023-01-11T19:14:06.514Z"
   },
   {
    "duration": 6,
    "start_time": "2023-01-11T19:14:06.565Z"
   },
   {
    "duration": 15,
    "start_time": "2023-01-11T19:14:06.572Z"
   },
   {
    "duration": 45,
    "start_time": "2023-01-11T19:14:06.588Z"
   },
   {
    "duration": 7,
    "start_time": "2023-01-11T19:14:06.635Z"
   },
   {
    "duration": 560,
    "start_time": "2023-01-11T19:14:06.644Z"
   },
   {
    "duration": 220,
    "start_time": "2023-01-11T19:14:07.205Z"
   },
   {
    "duration": 302,
    "start_time": "2023-01-11T19:14:07.428Z"
   },
   {
    "duration": 1232,
    "start_time": "2023-01-11T19:20:35.644Z"
   },
   {
    "duration": 4,
    "start_time": "2023-01-11T19:20:36.878Z"
   },
   {
    "duration": 68,
    "start_time": "2023-01-11T19:20:36.883Z"
   },
   {
    "duration": 56,
    "start_time": "2023-01-11T19:20:36.953Z"
   },
   {
    "duration": 12,
    "start_time": "2023-01-11T19:20:37.012Z"
   },
   {
    "duration": 26,
    "start_time": "2023-01-11T19:20:37.026Z"
   },
   {
    "duration": 33,
    "start_time": "2023-01-11T19:20:37.053Z"
   },
   {
    "duration": 88,
    "start_time": "2023-01-11T19:20:37.088Z"
   },
   {
    "duration": 57,
    "start_time": "2023-01-11T19:20:37.178Z"
   },
   {
    "duration": 12,
    "start_time": "2023-01-11T19:20:37.239Z"
   },
   {
    "duration": 87,
    "start_time": "2023-01-11T19:20:37.253Z"
   },
   {
    "duration": 6,
    "start_time": "2023-01-11T19:20:37.342Z"
   },
   {
    "duration": 48,
    "start_time": "2023-01-11T19:20:37.349Z"
   },
   {
    "duration": 51,
    "start_time": "2023-01-11T19:20:37.399Z"
   },
   {
    "duration": 41,
    "start_time": "2023-01-11T19:20:37.452Z"
   },
   {
    "duration": 813,
    "start_time": "2023-01-11T19:20:37.495Z"
   },
   {
    "duration": 242,
    "start_time": "2023-01-11T19:20:38.310Z"
   },
   {
    "duration": 323,
    "start_time": "2023-01-11T19:20:38.554Z"
   },
   {
    "duration": 104,
    "start_time": "2023-01-11T19:23:00.113Z"
   },
   {
    "duration": 251,
    "start_time": "2023-01-11T19:24:34.597Z"
   },
   {
    "duration": 168,
    "start_time": "2023-01-11T19:25:12.857Z"
   },
   {
    "duration": 7,
    "start_time": "2023-01-11T19:25:46.325Z"
   },
   {
    "duration": 241,
    "start_time": "2023-01-11T19:26:15.483Z"
   },
   {
    "duration": 292,
    "start_time": "2023-01-11T19:26:57.501Z"
   },
   {
    "duration": 6,
    "start_time": "2023-01-11T19:28:17.980Z"
   },
   {
    "duration": 4,
    "start_time": "2023-01-11T19:28:46.131Z"
   },
   {
    "duration": 7,
    "start_time": "2023-01-11T19:28:51.860Z"
   },
   {
    "duration": 217,
    "start_time": "2023-01-11T19:29:07.831Z"
   },
   {
    "duration": 176,
    "start_time": "2023-01-11T19:29:15.348Z"
   },
   {
    "duration": 11,
    "start_time": "2023-01-11T19:31:24.285Z"
   },
   {
    "duration": 62,
    "start_time": "2023-01-11T19:32:16.379Z"
   },
   {
    "duration": 8,
    "start_time": "2023-01-11T19:34:05.327Z"
   },
   {
    "duration": 9,
    "start_time": "2023-01-11T19:34:59.715Z"
   },
   {
    "duration": 9,
    "start_time": "2023-01-11T19:35:20.930Z"
   },
   {
    "duration": 185,
    "start_time": "2023-01-11T19:36:07.459Z"
   },
   {
    "duration": 1045,
    "start_time": "2023-01-11T19:36:28.173Z"
   },
   {
    "duration": 15,
    "start_time": "2023-01-11T19:36:29.219Z"
   },
   {
    "duration": 34,
    "start_time": "2023-01-11T19:36:29.238Z"
   },
   {
    "duration": 48,
    "start_time": "2023-01-11T19:36:29.274Z"
   },
   {
    "duration": 13,
    "start_time": "2023-01-11T19:36:29.324Z"
   },
   {
    "duration": 11,
    "start_time": "2023-01-11T19:36:29.338Z"
   },
   {
    "duration": 10,
    "start_time": "2023-01-11T19:36:29.351Z"
   },
   {
    "duration": 54,
    "start_time": "2023-01-11T19:36:29.362Z"
   },
   {
    "duration": 47,
    "start_time": "2023-01-11T19:36:29.418Z"
   },
   {
    "duration": 11,
    "start_time": "2023-01-11T19:36:29.467Z"
   },
   {
    "duration": 75,
    "start_time": "2023-01-11T19:36:29.479Z"
   },
   {
    "duration": 13,
    "start_time": "2023-01-11T19:36:29.556Z"
   },
   {
    "duration": 12,
    "start_time": "2023-01-11T19:36:29.571Z"
   },
   {
    "duration": 11,
    "start_time": "2023-01-11T19:36:29.585Z"
   },
   {
    "duration": 36,
    "start_time": "2023-01-11T19:36:29.597Z"
   },
   {
    "duration": 555,
    "start_time": "2023-01-11T19:36:29.635Z"
   },
   {
    "duration": 225,
    "start_time": "2023-01-11T19:36:30.192Z"
   },
   {
    "duration": 324,
    "start_time": "2023-01-11T19:36:30.422Z"
   },
   {
    "duration": 9,
    "start_time": "2023-01-11T19:36:30.748Z"
   },
   {
    "duration": 213,
    "start_time": "2023-01-11T19:36:30.759Z"
   },
   {
    "duration": 322,
    "start_time": "2023-01-11T19:37:06.993Z"
   },
   {
    "duration": 87,
    "start_time": "2023-01-11T19:40:22.086Z"
   },
   {
    "duration": 205,
    "start_time": "2023-01-11T19:40:26.640Z"
   },
   {
    "duration": 290,
    "start_time": "2023-01-11T19:40:46.914Z"
   },
   {
    "duration": 214,
    "start_time": "2023-01-11T19:41:47.468Z"
   },
   {
    "duration": 210,
    "start_time": "2023-01-11T19:42:31.348Z"
   },
   {
    "duration": 255,
    "start_time": "2023-01-11T19:42:43.843Z"
   },
   {
    "duration": 322,
    "start_time": "2023-01-11T19:56:14.077Z"
   },
   {
    "duration": 383,
    "start_time": "2023-01-11T19:57:00.276Z"
   },
   {
    "duration": 188,
    "start_time": "2023-01-11T19:57:25.407Z"
   },
   {
    "duration": 177,
    "start_time": "2023-01-11T19:57:52.579Z"
   },
   {
    "duration": 304,
    "start_time": "2023-01-11T19:58:03.692Z"
   },
   {
    "duration": 313,
    "start_time": "2023-01-11T19:59:06.234Z"
   },
   {
    "duration": 307,
    "start_time": "2023-01-11T19:59:25.035Z"
   },
   {
    "duration": 308,
    "start_time": "2023-01-11T19:59:50.298Z"
   },
   {
    "duration": 410,
    "start_time": "2023-01-11T20:00:15.347Z"
   },
   {
    "duration": 305,
    "start_time": "2023-01-11T20:00:58.282Z"
   },
   {
    "duration": 323,
    "start_time": "2023-01-11T20:01:13.350Z"
   },
   {
    "duration": 1227,
    "start_time": "2023-01-11T20:10:04.137Z"
   },
   {
    "duration": 5,
    "start_time": "2023-01-11T20:10:05.367Z"
   },
   {
    "duration": 65,
    "start_time": "2023-01-11T20:10:05.373Z"
   },
   {
    "duration": 71,
    "start_time": "2023-01-11T20:10:05.440Z"
   },
   {
    "duration": 13,
    "start_time": "2023-01-11T20:10:05.515Z"
   },
   {
    "duration": 49,
    "start_time": "2023-01-11T20:10:05.530Z"
   },
   {
    "duration": 21,
    "start_time": "2023-01-11T20:10:05.581Z"
   },
   {
    "duration": 75,
    "start_time": "2023-01-11T20:10:05.604Z"
   },
   {
    "duration": 52,
    "start_time": "2023-01-11T20:10:05.681Z"
   },
   {
    "duration": 18,
    "start_time": "2023-01-11T20:10:05.735Z"
   },
   {
    "duration": 75,
    "start_time": "2023-01-11T20:10:05.755Z"
   },
   {
    "duration": 12,
    "start_time": "2023-01-11T20:10:05.833Z"
   },
   {
    "duration": 50,
    "start_time": "2023-01-11T20:10:05.847Z"
   },
   {
    "duration": 56,
    "start_time": "2023-01-11T20:10:05.900Z"
   },
   {
    "duration": 9,
    "start_time": "2023-01-11T20:10:05.958Z"
   },
   {
    "duration": 688,
    "start_time": "2023-01-11T20:10:05.969Z"
   },
   {
    "duration": 240,
    "start_time": "2023-01-11T20:10:06.659Z"
   },
   {
    "duration": 346,
    "start_time": "2023-01-11T20:10:06.901Z"
   },
   {
    "duration": 9,
    "start_time": "2023-01-11T20:10:07.249Z"
   },
   {
    "duration": 256,
    "start_time": "2023-01-11T20:10:07.260Z"
   },
   {
    "duration": 368,
    "start_time": "2023-01-11T20:10:07.518Z"
   },
   {
    "duration": 111,
    "start_time": "2023-01-11T20:12:44.777Z"
   },
   {
    "duration": 8,
    "start_time": "2023-01-11T20:13:04.347Z"
   },
   {
    "duration": 91,
    "start_time": "2023-01-11T20:15:21.274Z"
   },
   {
    "duration": 73,
    "start_time": "2023-01-11T20:15:38.844Z"
   },
   {
    "duration": 279,
    "start_time": "2023-01-11T20:17:39.568Z"
   },
   {
    "duration": 424,
    "start_time": "2023-01-11T20:17:49.023Z"
   },
   {
    "duration": 87,
    "start_time": "2023-01-11T20:17:52.248Z"
   },
   {
    "duration": 311,
    "start_time": "2023-01-11T20:17:54.864Z"
   },
   {
    "duration": 361,
    "start_time": "2023-01-11T20:18:15.683Z"
   },
   {
    "duration": 6,
    "start_time": "2023-01-11T20:20:32.201Z"
   },
   {
    "duration": 99,
    "start_time": "2023-01-11T20:22:56.240Z"
   },
   {
    "duration": 8,
    "start_time": "2023-01-11T20:23:04.110Z"
   },
   {
    "duration": 153,
    "start_time": "2023-01-11T20:24:40.607Z"
   },
   {
    "duration": 181,
    "start_time": "2023-01-11T20:24:57.373Z"
   },
   {
    "duration": 5,
    "start_time": "2023-01-11T20:27:16.238Z"
   },
   {
    "duration": 141,
    "start_time": "2023-01-11T21:01:32.095Z"
   },
   {
    "duration": 356,
    "start_time": "2023-01-11T21:14:46.216Z"
   },
   {
    "duration": 15,
    "start_time": "2023-01-11T21:19:59.894Z"
   },
   {
    "duration": 1261,
    "start_time": "2023-01-11T21:29:13.340Z"
   },
   {
    "duration": 1213,
    "start_time": "2023-01-11T21:29:31.624Z"
   },
   {
    "duration": 1338,
    "start_time": "2023-01-11T21:30:08.938Z"
   },
   {
    "duration": 2091,
    "start_time": "2023-01-11T21:31:41.201Z"
   },
   {
    "duration": 353,
    "start_time": "2023-01-11T21:32:38.236Z"
   },
   {
    "duration": 10,
    "start_time": "2023-01-11T21:32:45.490Z"
   },
   {
    "duration": 9,
    "start_time": "2023-01-11T21:32:49.178Z"
   },
   {
    "duration": 10,
    "start_time": "2023-01-11T21:33:15.699Z"
   },
   {
    "duration": 15,
    "start_time": "2023-01-11T21:35:02.119Z"
   },
   {
    "duration": 20,
    "start_time": "2023-01-11T21:36:06.586Z"
   },
   {
    "duration": 15,
    "start_time": "2023-01-11T21:41:10.153Z"
   },
   {
    "duration": 1181,
    "start_time": "2023-01-11T21:44:29.339Z"
   },
   {
    "duration": 4,
    "start_time": "2023-01-11T21:44:30.525Z"
   },
   {
    "duration": 32,
    "start_time": "2023-01-11T21:44:30.531Z"
   },
   {
    "duration": 49,
    "start_time": "2023-01-11T21:44:30.565Z"
   },
   {
    "duration": 20,
    "start_time": "2023-01-11T21:44:30.616Z"
   },
   {
    "duration": 77,
    "start_time": "2023-01-11T21:44:30.638Z"
   },
   {
    "duration": 72,
    "start_time": "2023-01-11T21:44:30.716Z"
   },
   {
    "duration": 97,
    "start_time": "2023-01-11T21:44:30.789Z"
   },
   {
    "duration": 50,
    "start_time": "2023-01-11T21:44:30.888Z"
   },
   {
    "duration": 11,
    "start_time": "2023-01-11T21:44:30.941Z"
   },
   {
    "duration": 109,
    "start_time": "2023-01-11T21:44:30.954Z"
   },
   {
    "duration": 26,
    "start_time": "2023-01-11T21:44:31.064Z"
   },
   {
    "duration": 41,
    "start_time": "2023-01-11T21:44:31.092Z"
   },
   {
    "duration": 54,
    "start_time": "2023-01-11T21:44:31.135Z"
   },
   {
    "duration": 23,
    "start_time": "2023-01-11T21:44:31.190Z"
   },
   {
    "duration": 605,
    "start_time": "2023-01-11T21:44:31.215Z"
   },
   {
    "duration": 209,
    "start_time": "2023-01-11T21:44:31.831Z"
   },
   {
    "duration": 329,
    "start_time": "2023-01-11T21:44:32.041Z"
   },
   {
    "duration": 8,
    "start_time": "2023-01-11T21:44:32.372Z"
   },
   {
    "duration": 222,
    "start_time": "2023-01-11T21:44:32.382Z"
   },
   {
    "duration": 355,
    "start_time": "2023-01-11T21:44:32.606Z"
   },
   {
    "duration": 296,
    "start_time": "2023-01-11T21:44:32.963Z"
   },
   {
    "duration": 5,
    "start_time": "2023-01-11T21:44:33.261Z"
   },
   {
    "duration": 242,
    "start_time": "2023-01-11T21:44:33.267Z"
   },
   {
    "duration": 5,
    "start_time": "2023-01-11T21:44:33.510Z"
   },
   {
    "duration": 381,
    "start_time": "2023-01-11T21:44:33.522Z"
   },
   {
    "duration": 28,
    "start_time": "2023-01-11T21:44:33.904Z"
   },
   {
    "duration": 11,
    "start_time": "2023-01-11T21:44:33.937Z"
   },
   {
    "duration": 14,
    "start_time": "2023-01-11T21:44:33.949Z"
   },
   {
    "duration": 21,
    "start_time": "2023-01-11T21:44:33.965Z"
   },
   {
    "duration": 14,
    "start_time": "2023-01-11T21:44:33.987Z"
   },
   {
    "duration": 1171,
    "start_time": "2023-01-11T22:09:19.300Z"
   },
   {
    "duration": 4,
    "start_time": "2023-01-11T22:09:20.473Z"
   },
   {
    "duration": 35,
    "start_time": "2023-01-11T22:09:20.479Z"
   },
   {
    "duration": 61,
    "start_time": "2023-01-11T22:09:20.515Z"
   },
   {
    "duration": 7,
    "start_time": "2023-01-11T22:09:20.578Z"
   },
   {
    "duration": 33,
    "start_time": "2023-01-11T22:09:20.587Z"
   },
   {
    "duration": 18,
    "start_time": "2023-01-11T22:09:20.631Z"
   },
   {
    "duration": 58,
    "start_time": "2023-01-11T22:09:20.651Z"
   },
   {
    "duration": 49,
    "start_time": "2023-01-11T22:09:20.711Z"
   },
   {
    "duration": 10,
    "start_time": "2023-01-11T22:09:20.762Z"
   },
   {
    "duration": 79,
    "start_time": "2023-01-11T22:09:20.774Z"
   },
   {
    "duration": 5,
    "start_time": "2023-01-11T22:09:20.854Z"
   },
   {
    "duration": 13,
    "start_time": "2023-01-11T22:09:20.860Z"
   },
   {
    "duration": 8,
    "start_time": "2023-01-11T22:09:20.875Z"
   },
   {
    "duration": 5,
    "start_time": "2023-01-11T22:09:20.885Z"
   },
   {
    "duration": 575,
    "start_time": "2023-01-11T22:09:20.892Z"
   },
   {
    "duration": 234,
    "start_time": "2023-01-11T22:09:21.469Z"
   },
   {
    "duration": 340,
    "start_time": "2023-01-11T22:09:21.704Z"
   },
   {
    "duration": 9,
    "start_time": "2023-01-11T22:09:22.046Z"
   },
   {
    "duration": 236,
    "start_time": "2023-01-11T22:09:22.057Z"
   },
   {
    "duration": 368,
    "start_time": "2023-01-11T22:09:22.294Z"
   },
   {
    "duration": 282,
    "start_time": "2023-01-11T22:09:22.663Z"
   },
   {
    "duration": 5,
    "start_time": "2023-01-11T22:09:22.947Z"
   },
   {
    "duration": 247,
    "start_time": "2023-01-11T22:09:22.954Z"
   },
   {
    "duration": 5,
    "start_time": "2023-01-11T22:09:23.203Z"
   },
   {
    "duration": 395,
    "start_time": "2023-01-11T22:09:23.209Z"
   },
   {
    "duration": 19,
    "start_time": "2023-01-11T22:09:23.605Z"
   },
   {
    "duration": 18,
    "start_time": "2023-01-11T22:09:23.625Z"
   },
   {
    "duration": 10,
    "start_time": "2023-01-11T22:09:23.645Z"
   },
   {
    "duration": 21,
    "start_time": "2023-01-11T22:09:23.656Z"
   },
   {
    "duration": 57,
    "start_time": "2023-01-11T22:09:23.678Z"
   },
   {
    "duration": 1198,
    "start_time": "2023-01-11T22:09:58.015Z"
   },
   {
    "duration": 4,
    "start_time": "2023-01-11T22:09:59.215Z"
   },
   {
    "duration": 46,
    "start_time": "2023-01-11T22:09:59.222Z"
   },
   {
    "duration": 52,
    "start_time": "2023-01-11T22:09:59.270Z"
   },
   {
    "duration": 15,
    "start_time": "2023-01-11T22:09:59.324Z"
   },
   {
    "duration": 28,
    "start_time": "2023-01-11T22:09:59.340Z"
   },
   {
    "duration": 11,
    "start_time": "2023-01-11T22:09:59.370Z"
   },
   {
    "duration": 70,
    "start_time": "2023-01-11T22:09:59.383Z"
   },
   {
    "duration": 43,
    "start_time": "2023-01-11T22:09:59.455Z"
   },
   {
    "duration": 11,
    "start_time": "2023-01-11T22:09:59.500Z"
   },
   {
    "duration": 45,
    "start_time": "2023-01-11T22:09:59.512Z"
   },
   {
    "duration": 4,
    "start_time": "2023-01-11T22:09:59.559Z"
   },
   {
    "duration": 14,
    "start_time": "2023-01-11T22:09:59.564Z"
   },
   {
    "duration": 18,
    "start_time": "2023-01-11T22:09:59.579Z"
   },
   {
    "duration": 14,
    "start_time": "2023-01-11T22:09:59.622Z"
   },
   {
    "duration": 584,
    "start_time": "2023-01-11T22:09:59.638Z"
   },
   {
    "duration": 225,
    "start_time": "2023-01-11T22:10:00.225Z"
   },
   {
    "duration": 308,
    "start_time": "2023-01-11T22:10:00.452Z"
   },
   {
    "duration": 8,
    "start_time": "2023-01-11T22:10:00.761Z"
   },
   {
    "duration": 223,
    "start_time": "2023-01-11T22:10:00.771Z"
   },
   {
    "duration": 354,
    "start_time": "2023-01-11T22:10:00.995Z"
   },
   {
    "duration": 274,
    "start_time": "2023-01-11T22:10:01.352Z"
   },
   {
    "duration": 10,
    "start_time": "2023-01-11T22:10:01.630Z"
   },
   {
    "duration": 320,
    "start_time": "2023-01-11T22:10:01.643Z"
   },
   {
    "duration": 6,
    "start_time": "2023-01-11T22:10:01.964Z"
   },
   {
    "duration": 374,
    "start_time": "2023-01-11T22:10:01.971Z"
   },
   {
    "duration": 12,
    "start_time": "2023-01-11T22:10:02.347Z"
   },
   {
    "duration": 26,
    "start_time": "2023-01-11T22:10:02.363Z"
   },
   {
    "duration": 59,
    "start_time": "2023-01-11T22:10:02.391Z"
   },
   {
    "duration": 41,
    "start_time": "2023-01-11T22:10:02.451Z"
   },
   {
    "duration": 15,
    "start_time": "2023-01-11T22:10:02.494Z"
   },
   {
    "duration": 1353,
    "start_time": "2023-01-12T09:03:42.903Z"
   },
   {
    "duration": 4,
    "start_time": "2023-01-12T09:03:44.258Z"
   },
   {
    "duration": 78,
    "start_time": "2023-01-12T09:03:44.263Z"
   },
   {
    "duration": 53,
    "start_time": "2023-01-12T09:03:44.342Z"
   },
   {
    "duration": 7,
    "start_time": "2023-01-12T09:03:44.397Z"
   },
   {
    "duration": 15,
    "start_time": "2023-01-12T09:03:44.406Z"
   },
   {
    "duration": 11,
    "start_time": "2023-01-12T09:03:44.423Z"
   },
   {
    "duration": 158,
    "start_time": "2023-01-12T09:03:44.435Z"
   },
   {
    "duration": 46,
    "start_time": "2023-01-12T09:03:44.595Z"
   },
   {
    "duration": 14,
    "start_time": "2023-01-12T09:03:44.642Z"
   },
   {
    "duration": 68,
    "start_time": "2023-01-12T09:03:44.658Z"
   },
   {
    "duration": 4,
    "start_time": "2023-01-12T09:03:44.727Z"
   },
   {
    "duration": 12,
    "start_time": "2023-01-12T09:03:44.732Z"
   },
   {
    "duration": 8,
    "start_time": "2023-01-12T09:03:44.747Z"
   },
   {
    "duration": 7,
    "start_time": "2023-01-12T09:03:44.756Z"
   },
   {
    "duration": 615,
    "start_time": "2023-01-12T09:03:44.765Z"
   },
   {
    "duration": 224,
    "start_time": "2023-01-12T09:03:45.381Z"
   },
   {
    "duration": 385,
    "start_time": "2023-01-12T09:03:45.607Z"
   },
   {
    "duration": 8,
    "start_time": "2023-01-12T09:03:45.994Z"
   },
   {
    "duration": 226,
    "start_time": "2023-01-12T09:03:46.011Z"
   },
   {
    "duration": 376,
    "start_time": "2023-01-12T09:03:46.239Z"
   },
   {
    "duration": 291,
    "start_time": "2023-01-12T09:03:46.616Z"
   },
   {
    "duration": 5,
    "start_time": "2023-01-12T09:03:46.911Z"
   },
   {
    "duration": 246,
    "start_time": "2023-01-12T09:03:46.918Z"
   },
   {
    "duration": 5,
    "start_time": "2023-01-12T09:03:47.166Z"
   },
   {
    "duration": 379,
    "start_time": "2023-01-12T09:03:47.173Z"
   },
   {
    "duration": 12,
    "start_time": "2023-01-12T09:03:47.554Z"
   },
   {
    "duration": 40,
    "start_time": "2023-01-12T09:03:47.568Z"
   },
   {
    "duration": 35,
    "start_time": "2023-01-12T09:03:47.610Z"
   },
   {
    "duration": 33,
    "start_time": "2023-01-12T09:03:47.647Z"
   },
   {
    "duration": 16,
    "start_time": "2023-01-12T09:03:47.682Z"
   },
   {
    "duration": 1064,
    "start_time": "2023-01-12T09:19:06.940Z"
   },
   {
    "duration": 3,
    "start_time": "2023-01-12T09:19:08.006Z"
   },
   {
    "duration": 33,
    "start_time": "2023-01-12T09:19:08.012Z"
   },
   {
    "duration": 49,
    "start_time": "2023-01-12T09:19:08.047Z"
   },
   {
    "duration": 14,
    "start_time": "2023-01-12T09:19:08.098Z"
   },
   {
    "duration": 9,
    "start_time": "2023-01-12T09:19:08.114Z"
   },
   {
    "duration": 10,
    "start_time": "2023-01-12T09:19:08.124Z"
   },
   {
    "duration": 66,
    "start_time": "2023-01-12T09:19:08.136Z"
   },
   {
    "duration": 41,
    "start_time": "2023-01-12T09:19:08.204Z"
   },
   {
    "duration": 12,
    "start_time": "2023-01-12T09:19:08.247Z"
   },
   {
    "duration": 67,
    "start_time": "2023-01-12T09:19:08.260Z"
   },
   {
    "duration": 3,
    "start_time": "2023-01-12T09:19:08.329Z"
   },
   {
    "duration": 19,
    "start_time": "2023-01-12T09:19:08.334Z"
   },
   {
    "duration": 9,
    "start_time": "2023-01-12T09:19:08.354Z"
   },
   {
    "duration": 6,
    "start_time": "2023-01-12T09:19:08.365Z"
   },
   {
    "duration": 573,
    "start_time": "2023-01-12T09:19:08.373Z"
   },
   {
    "duration": 211,
    "start_time": "2023-01-12T09:19:08.948Z"
   },
   {
    "duration": 292,
    "start_time": "2023-01-12T09:19:09.160Z"
   },
   {
    "duration": 8,
    "start_time": "2023-01-12T09:19:09.454Z"
   },
   {
    "duration": 234,
    "start_time": "2023-01-12T09:19:09.463Z"
   },
   {
    "duration": 334,
    "start_time": "2023-01-12T09:19:09.699Z"
   },
   {
    "duration": 282,
    "start_time": "2023-01-12T09:19:10.035Z"
   },
   {
    "duration": 5,
    "start_time": "2023-01-12T09:19:10.320Z"
   },
   {
    "duration": 232,
    "start_time": "2023-01-12T09:19:10.326Z"
   },
   {
    "duration": 5,
    "start_time": "2023-01-12T09:19:10.560Z"
   },
   {
    "duration": 373,
    "start_time": "2023-01-12T09:19:10.567Z"
   },
   {
    "duration": 13,
    "start_time": "2023-01-12T09:19:10.942Z"
   },
   {
    "duration": 12,
    "start_time": "2023-01-12T09:19:10.958Z"
   },
   {
    "duration": 14,
    "start_time": "2023-01-12T09:19:10.971Z"
   },
   {
    "duration": 44,
    "start_time": "2023-01-12T09:19:10.987Z"
   },
   {
    "duration": 16,
    "start_time": "2023-01-12T09:19:11.033Z"
   },
   {
    "duration": 71,
    "start_time": "2023-01-12T10:15:32.113Z"
   },
   {
    "duration": 7,
    "start_time": "2023-01-12T10:15:37.511Z"
   },
   {
    "duration": 1361,
    "start_time": "2023-01-12T10:15:45.843Z"
   },
   {
    "duration": 5,
    "start_time": "2023-01-12T10:15:47.206Z"
   },
   {
    "duration": 78,
    "start_time": "2023-01-12T10:15:47.213Z"
   },
   {
    "duration": 54,
    "start_time": "2023-01-12T10:15:47.294Z"
   },
   {
    "duration": 29,
    "start_time": "2023-01-12T10:15:47.349Z"
   },
   {
    "duration": 16,
    "start_time": "2023-01-12T10:15:47.380Z"
   },
   {
    "duration": 12,
    "start_time": "2023-01-12T10:15:47.398Z"
   },
   {
    "duration": 150,
    "start_time": "2023-01-12T10:15:47.411Z"
   },
   {
    "duration": 49,
    "start_time": "2023-01-12T10:15:47.563Z"
   },
   {
    "duration": 12,
    "start_time": "2023-01-12T10:15:47.614Z"
   },
   {
    "duration": 75,
    "start_time": "2023-01-12T10:15:47.628Z"
   },
   {
    "duration": 5,
    "start_time": "2023-01-12T10:15:47.705Z"
   },
   {
    "duration": 16,
    "start_time": "2023-01-12T10:15:47.712Z"
   },
   {
    "duration": 16,
    "start_time": "2023-01-12T10:15:47.730Z"
   },
   {
    "duration": 47,
    "start_time": "2023-01-12T10:15:47.748Z"
   },
   {
    "duration": 646,
    "start_time": "2023-01-12T10:15:47.798Z"
   },
   {
    "duration": 220,
    "start_time": "2023-01-12T10:15:48.446Z"
   },
   {
    "duration": 361,
    "start_time": "2023-01-12T10:15:48.668Z"
   },
   {
    "duration": 9,
    "start_time": "2023-01-12T10:15:49.032Z"
   },
   {
    "duration": 237,
    "start_time": "2023-01-12T10:15:49.044Z"
   },
   {
    "duration": 355,
    "start_time": "2023-01-12T10:15:49.282Z"
   },
   {
    "duration": 305,
    "start_time": "2023-01-12T10:15:49.639Z"
   },
   {
    "duration": 6,
    "start_time": "2023-01-12T10:15:49.945Z"
   },
   {
    "duration": 226,
    "start_time": "2023-01-12T10:15:49.953Z"
   },
   {
    "duration": 4,
    "start_time": "2023-01-12T10:15:50.181Z"
   },
   {
    "duration": 360,
    "start_time": "2023-01-12T10:15:50.187Z"
   },
   {
    "duration": 11,
    "start_time": "2023-01-12T10:15:50.549Z"
   },
   {
    "duration": 23,
    "start_time": "2023-01-12T10:15:50.562Z"
   },
   {
    "duration": 12,
    "start_time": "2023-01-12T10:15:50.587Z"
   },
   {
    "duration": 24,
    "start_time": "2023-01-12T10:15:50.600Z"
   },
   {
    "duration": 14,
    "start_time": "2023-01-12T10:15:50.626Z"
   },
   {
    "duration": 370,
    "start_time": "2023-01-12T12:20:59.397Z"
   },
   {
    "duration": 336,
    "start_time": "2023-01-12T12:21:13.351Z"
   },
   {
    "duration": 11,
    "start_time": "2023-01-12T12:22:43.649Z"
   },
   {
    "duration": 5,
    "start_time": "2023-01-12T12:26:13.552Z"
   },
   {
    "duration": 103,
    "start_time": "2023-01-12T12:26:27.145Z"
   },
   {
    "duration": 53,
    "start_time": "2023-01-12T12:28:21.788Z"
   },
   {
    "duration": 48,
    "start_time": "2023-01-12T12:29:55.150Z"
   },
   {
    "duration": 6,
    "start_time": "2023-01-12T12:30:51.097Z"
   },
   {
    "duration": 41,
    "start_time": "2023-01-12T12:31:25.473Z"
   },
   {
    "duration": 4,
    "start_time": "2023-01-12T12:31:31.017Z"
   },
   {
    "duration": 4,
    "start_time": "2023-01-12T12:31:35.579Z"
   },
   {
    "duration": 4,
    "start_time": "2023-01-12T12:31:40.453Z"
   },
   {
    "duration": 13,
    "start_time": "2023-01-12T12:32:06.566Z"
   },
   {
    "duration": 11,
    "start_time": "2023-01-12T12:32:55.212Z"
   },
   {
    "duration": 11,
    "start_time": "2023-01-12T12:33:08.729Z"
   },
   {
    "duration": 11,
    "start_time": "2023-01-12T12:34:12.072Z"
   },
   {
    "duration": 4,
    "start_time": "2023-01-12T12:34:46.656Z"
   },
   {
    "duration": 4,
    "start_time": "2023-01-12T12:35:01.731Z"
   },
   {
    "duration": 1117,
    "start_time": "2023-01-12T12:35:27.162Z"
   },
   {
    "duration": 5,
    "start_time": "2023-01-12T12:35:28.281Z"
   },
   {
    "duration": 54,
    "start_time": "2023-01-12T12:35:28.288Z"
   },
   {
    "duration": 45,
    "start_time": "2023-01-12T12:35:28.344Z"
   },
   {
    "duration": 8,
    "start_time": "2023-01-12T12:35:28.391Z"
   },
   {
    "duration": 24,
    "start_time": "2023-01-12T12:35:28.400Z"
   },
   {
    "duration": 11,
    "start_time": "2023-01-12T12:35:28.425Z"
   },
   {
    "duration": 56,
    "start_time": "2023-01-12T12:35:28.437Z"
   },
   {
    "duration": 38,
    "start_time": "2023-01-12T12:35:28.495Z"
   },
   {
    "duration": 11,
    "start_time": "2023-01-12T12:35:28.535Z"
   },
   {
    "duration": 48,
    "start_time": "2023-01-12T12:35:28.547Z"
   },
   {
    "duration": 3,
    "start_time": "2023-01-12T12:35:28.597Z"
   },
   {
    "duration": 10,
    "start_time": "2023-01-12T12:35:28.602Z"
   },
   {
    "duration": 7,
    "start_time": "2023-01-12T12:35:28.615Z"
   },
   {
    "duration": 7,
    "start_time": "2023-01-12T12:35:28.624Z"
   },
   {
    "duration": 547,
    "start_time": "2023-01-12T12:35:28.632Z"
   },
   {
    "duration": 201,
    "start_time": "2023-01-12T12:35:29.180Z"
   },
   {
    "duration": 300,
    "start_time": "2023-01-12T12:35:29.383Z"
   },
   {
    "duration": 7,
    "start_time": "2023-01-12T12:35:29.685Z"
   },
   {
    "duration": 197,
    "start_time": "2023-01-12T12:35:29.693Z"
   },
   {
    "duration": 334,
    "start_time": "2023-01-12T12:35:29.891Z"
   },
   {
    "duration": 255,
    "start_time": "2023-01-12T12:35:30.226Z"
   },
   {
    "duration": 5,
    "start_time": "2023-01-12T12:35:30.483Z"
   },
   {
    "duration": 240,
    "start_time": "2023-01-12T12:35:30.489Z"
   },
   {
    "duration": 4,
    "start_time": "2023-01-12T12:35:30.731Z"
   },
   {
    "duration": 370,
    "start_time": "2023-01-12T12:35:30.737Z"
   },
   {
    "duration": 10,
    "start_time": "2023-01-12T12:35:31.109Z"
   },
   {
    "duration": 22,
    "start_time": "2023-01-12T12:35:31.120Z"
   },
   {
    "duration": 39,
    "start_time": "2023-01-12T12:35:31.143Z"
   },
   {
    "duration": 39,
    "start_time": "2023-01-12T12:35:31.184Z"
   },
   {
    "duration": 13,
    "start_time": "2023-01-12T12:35:31.225Z"
   },
   {
    "duration": 1221,
    "start_time": "2023-01-12T12:38:32.850Z"
   },
   {
    "duration": 4,
    "start_time": "2023-01-12T12:38:34.073Z"
   },
   {
    "duration": 57,
    "start_time": "2023-01-12T12:38:34.078Z"
   },
   {
    "duration": 50,
    "start_time": "2023-01-12T12:38:34.137Z"
   },
   {
    "duration": 9,
    "start_time": "2023-01-12T12:38:34.189Z"
   },
   {
    "duration": 17,
    "start_time": "2023-01-12T12:38:34.200Z"
   },
   {
    "duration": 12,
    "start_time": "2023-01-12T12:38:34.219Z"
   },
   {
    "duration": 60,
    "start_time": "2023-01-12T12:38:34.233Z"
   },
   {
    "duration": 48,
    "start_time": "2023-01-12T12:38:34.295Z"
   },
   {
    "duration": 13,
    "start_time": "2023-01-12T12:38:34.344Z"
   },
   {
    "duration": 54,
    "start_time": "2023-01-12T12:38:34.358Z"
   },
   {
    "duration": 4,
    "start_time": "2023-01-12T12:38:34.413Z"
   },
   {
    "duration": 12,
    "start_time": "2023-01-12T12:38:34.419Z"
   },
   {
    "duration": 47,
    "start_time": "2023-01-12T12:38:34.433Z"
   },
   {
    "duration": 5,
    "start_time": "2023-01-12T12:38:34.482Z"
   },
   {
    "duration": 544,
    "start_time": "2023-01-12T12:38:34.489Z"
   },
   {
    "duration": 266,
    "start_time": "2023-01-12T12:38:35.035Z"
   },
   {
    "duration": 330,
    "start_time": "2023-01-12T12:38:35.303Z"
   },
   {
    "duration": 7,
    "start_time": "2023-01-12T12:38:35.635Z"
   },
   {
    "duration": 207,
    "start_time": "2023-01-12T12:38:35.643Z"
   },
   {
    "duration": 338,
    "start_time": "2023-01-12T12:38:35.851Z"
   },
   {
    "duration": 290,
    "start_time": "2023-01-12T12:38:36.190Z"
   },
   {
    "duration": 6,
    "start_time": "2023-01-12T12:38:36.482Z"
   },
   {
    "duration": 236,
    "start_time": "2023-01-12T12:38:36.490Z"
   },
   {
    "duration": 6,
    "start_time": "2023-01-12T12:38:36.727Z"
   },
   {
    "duration": 389,
    "start_time": "2023-01-12T12:38:36.735Z"
   },
   {
    "duration": 11,
    "start_time": "2023-01-12T12:38:37.126Z"
   },
   {
    "duration": 13,
    "start_time": "2023-01-12T12:38:37.138Z"
   },
   {
    "duration": 27,
    "start_time": "2023-01-12T12:38:37.153Z"
   },
   {
    "duration": 27,
    "start_time": "2023-01-12T12:38:37.182Z"
   },
   {
    "duration": 15,
    "start_time": "2023-01-12T12:38:37.211Z"
   },
   {
    "duration": 1051,
    "start_time": "2023-01-12T12:42:07.412Z"
   },
   {
    "duration": 4,
    "start_time": "2023-01-12T12:42:08.464Z"
   },
   {
    "duration": 27,
    "start_time": "2023-01-12T12:42:08.476Z"
   },
   {
    "duration": 49,
    "start_time": "2023-01-12T12:42:08.505Z"
   },
   {
    "duration": 8,
    "start_time": "2023-01-12T12:42:08.555Z"
   },
   {
    "duration": 16,
    "start_time": "2023-01-12T12:42:08.564Z"
   },
   {
    "duration": 11,
    "start_time": "2023-01-12T12:42:08.581Z"
   },
   {
    "duration": 52,
    "start_time": "2023-01-12T12:42:08.593Z"
   },
   {
    "duration": 42,
    "start_time": "2023-01-12T12:42:08.647Z"
   },
   {
    "duration": 12,
    "start_time": "2023-01-12T12:42:08.692Z"
   },
   {
    "duration": 38,
    "start_time": "2023-01-12T12:42:08.705Z"
   },
   {
    "duration": 32,
    "start_time": "2023-01-12T12:42:08.744Z"
   },
   {
    "duration": 14,
    "start_time": "2023-01-12T12:42:08.778Z"
   },
   {
    "duration": 9,
    "start_time": "2023-01-12T12:42:08.793Z"
   },
   {
    "duration": 6,
    "start_time": "2023-01-12T12:42:08.804Z"
   },
   {
    "duration": 592,
    "start_time": "2023-01-12T12:42:08.812Z"
   },
   {
    "duration": 210,
    "start_time": "2023-01-12T12:42:09.406Z"
   },
   {
    "duration": 301,
    "start_time": "2023-01-12T12:42:09.618Z"
   },
   {
    "duration": 7,
    "start_time": "2023-01-12T12:42:09.921Z"
   },
   {
    "duration": 213,
    "start_time": "2023-01-12T12:42:09.929Z"
   },
   {
    "duration": 318,
    "start_time": "2023-01-12T12:42:10.143Z"
   },
   {
    "duration": 265,
    "start_time": "2023-01-12T12:42:10.463Z"
   },
   {
    "duration": 4,
    "start_time": "2023-01-12T12:42:10.730Z"
   },
   {
    "duration": 221,
    "start_time": "2023-01-12T12:42:10.736Z"
   },
   {
    "duration": 4,
    "start_time": "2023-01-12T12:42:10.959Z"
   },
   {
    "duration": 345,
    "start_time": "2023-01-12T12:42:10.964Z"
   },
   {
    "duration": 9,
    "start_time": "2023-01-12T12:42:11.311Z"
   },
   {
    "duration": 11,
    "start_time": "2023-01-12T12:42:11.322Z"
   },
   {
    "duration": 6,
    "start_time": "2023-01-12T12:42:11.335Z"
   },
   {
    "duration": 21,
    "start_time": "2023-01-12T12:42:11.342Z"
   },
   {
    "duration": 20,
    "start_time": "2023-01-12T12:42:11.364Z"
   },
   {
    "duration": 1252,
    "start_time": "2023-01-13T09:03:45.919Z"
   },
   {
    "duration": 4,
    "start_time": "2023-01-13T09:03:47.174Z"
   },
   {
    "duration": 68,
    "start_time": "2023-01-13T09:03:47.180Z"
   },
   {
    "duration": 54,
    "start_time": "2023-01-13T09:03:47.249Z"
   },
   {
    "duration": 9,
    "start_time": "2023-01-13T09:03:47.307Z"
   },
   {
    "duration": 18,
    "start_time": "2023-01-13T09:03:47.319Z"
   },
   {
    "duration": 12,
    "start_time": "2023-01-13T09:03:47.339Z"
   },
   {
    "duration": 153,
    "start_time": "2023-01-13T09:03:47.353Z"
   },
   {
    "duration": 57,
    "start_time": "2023-01-13T09:03:47.508Z"
   },
   {
    "duration": 16,
    "start_time": "2023-01-13T09:03:47.567Z"
   },
   {
    "duration": 49,
    "start_time": "2023-01-13T09:03:47.586Z"
   },
   {
    "duration": 5,
    "start_time": "2023-01-13T09:03:47.637Z"
   },
   {
    "duration": 41,
    "start_time": "2023-01-13T09:03:47.643Z"
   },
   {
    "duration": 18,
    "start_time": "2023-01-13T09:03:47.688Z"
   },
   {
    "duration": 8,
    "start_time": "2023-01-13T09:03:47.707Z"
   },
   {
    "duration": 709,
    "start_time": "2023-01-13T09:03:47.717Z"
   },
   {
    "duration": 344,
    "start_time": "2023-01-13T09:03:48.429Z"
   },
   {
    "duration": 335,
    "start_time": "2023-01-13T09:03:48.777Z"
   },
   {
    "duration": 12,
    "start_time": "2023-01-13T09:03:49.116Z"
   },
   {
    "duration": 270,
    "start_time": "2023-01-13T09:03:49.130Z"
   },
   {
    "duration": 352,
    "start_time": "2023-01-13T09:03:49.402Z"
   },
   {
    "duration": 339,
    "start_time": "2023-01-13T09:03:49.756Z"
   },
   {
    "duration": 7,
    "start_time": "2023-01-13T09:03:50.097Z"
   },
   {
    "duration": 273,
    "start_time": "2023-01-13T09:03:50.106Z"
   },
   {
    "duration": 5,
    "start_time": "2023-01-13T09:03:50.382Z"
   },
   {
    "duration": 411,
    "start_time": "2023-01-13T09:03:50.389Z"
   },
   {
    "duration": 12,
    "start_time": "2023-01-13T09:03:50.802Z"
   },
   {
    "duration": 18,
    "start_time": "2023-01-13T09:03:50.815Z"
   },
   {
    "duration": 12,
    "start_time": "2023-01-13T09:03:50.835Z"
   },
   {
    "duration": 61,
    "start_time": "2023-01-13T09:03:50.849Z"
   },
   {
    "duration": 21,
    "start_time": "2023-01-13T09:03:50.913Z"
   }
  ],
  "kernelspec": {
   "display_name": "Python 3 (ipykernel)",
   "language": "python",
   "name": "python3"
  },
  "language_info": {
   "codemirror_mode": {
    "name": "ipython",
    "version": 3
   },
   "file_extension": ".py",
   "mimetype": "text/x-python",
   "name": "python",
   "nbconvert_exporter": "python",
   "pygments_lexer": "ipython3",
   "version": "3.9.12"
  },
  "toc": {
   "base_numbering": 1,
   "nav_menu": {},
   "number_sections": true,
   "sideBar": true,
   "skip_h1_title": true,
   "title_cell": "Table of Contents",
   "title_sidebar": "Contents",
   "toc_cell": false,
   "toc_position": {},
   "toc_section_display": true,
   "toc_window_display": false
  }
 },
 "nbformat": 4,
 "nbformat_minor": 2
}
